{
 "cells": [
  {
   "cell_type": "markdown",
   "id": "d36a1923",
   "metadata": {},
   "source": [
    "Crea las siguientes variables:\n",
    "\n",
    "var1 sea un número con el valor 8.\n",
    "\n",
    "var2 sea un número con el valor 2.\n",
    "\n",
    "var3 sea un número con el valor 8."
   ]
  },
  {
   "cell_type": "code",
   "execution_count": 1,
   "id": "fd47883c",
   "metadata": {},
   "outputs": [],
   "source": [
    "var1 = 8\n",
    "var2 = 2\n",
    "var3 = 8"
   ]
  },
  {
   "cell_type": "markdown",
   "id": "674ca9b0",
   "metadata": {},
   "source": [
    "Comprueba si var1 es mayor que 6, y si es así imprime ¡Es enorme!."
   ]
  },
  {
   "cell_type": "code",
   "execution_count": null,
   "id": "be0f4167",
   "metadata": {},
   "outputs": [
    {
     "name": "stdout",
     "output_type": "stream",
     "text": [
      "¡Es enorme!)\n"
     ]
    }
   ],
   "source": [
    "if var1 > 6:\n",
    "    print (\"¡Es enorme!\")"
   ]
  },
  {
   "cell_type": "markdown",
   "id": "bb07ad1b",
   "metadata": {},
   "source": [
    "Comprueba si var2 es mayor que 6, y si es así imprime ¡Es enorme también!."
   ]
  },
  {
   "cell_type": "code",
   "execution_count": 5,
   "id": "f0ed267b",
   "metadata": {},
   "outputs": [],
   "source": [
    "if var2 > 6:\n",
    "    print (\"¡Es enorme también!\")"
   ]
  },
  {
   "cell_type": "markdown",
   "id": "6a2214d4",
   "metadata": {},
   "source": [
    "Comprueba si var3 es mayor que 6, y si es así imprime ¡Es enorme! seguido por ¡Pero de verdad! en otra línea (deberéis tener dos print)."
   ]
  },
  {
   "cell_type": "code",
   "execution_count": 6,
   "id": "d208570e",
   "metadata": {},
   "outputs": [
    {
     "name": "stdout",
     "output_type": "stream",
     "text": [
      "¡Es enorme!\n",
      "¡Pero de verdad!\n"
     ]
    }
   ],
   "source": [
    "if var3 > 6:\n",
    "    print (\"¡Es enorme!\")\n",
    "    print (\"¡Pero de verdad!\")"
   ]
  },
  {
   "cell_type": "markdown",
   "id": "d2b07f7b",
   "metadata": {},
   "source": [
    "Comprueba si var1 es igual que var3, y si es así imprime Son iguales.."
   ]
  },
  {
   "cell_type": "code",
   "execution_count": 9,
   "id": "2e93033b",
   "metadata": {},
   "outputs": [
    {
     "name": "stdout",
     "output_type": "stream",
     "text": [
      "son iguales\n"
     ]
    }
   ],
   "source": [
    "if var1 == var3:\n",
    "    print (\"son iguales\")"
   ]
  },
  {
   "cell_type": "markdown",
   "id": "6817d9c9",
   "metadata": {},
   "source": [
    "Comprueba si var1 es igual que var2, y si es así imprime Son iguales."
   ]
  },
  {
   "cell_type": "code",
   "execution_count": 10,
   "id": "2c7a50b1",
   "metadata": {},
   "outputs": [],
   "source": [
    "if var1 == var2:\n",
    "    print (\"son iguales\")"
   ]
  },
  {
   "cell_type": "markdown",
   "id": "0f6d8f65",
   "metadata": {},
   "source": [
    "Comprueba si var1 es mayor o igual que var2, y si es así calcula la diferencia entre var1 y var2, guárdala en la variable dif, e imprime 'La diferencia es',dif."
   ]
  },
  {
   "cell_type": "code",
   "execution_count": 13,
   "id": "d38caff8",
   "metadata": {},
   "outputs": [],
   "source": [
    "dif = var1 - var2"
   ]
  },
  {
   "cell_type": "code",
   "execution_count": 14,
   "id": "8798f6a5",
   "metadata": {},
   "outputs": [
    {
     "name": "stdout",
     "output_type": "stream",
     "text": [
      "La diferencia es 6\n"
     ]
    }
   ],
   "source": [
    "if var1 >= var2:\n",
    "   print (\"La diferencia es\", dif)"
   ]
  },
  {
   "cell_type": "markdown",
   "id": "c43b9c9f",
   "metadata": {},
   "source": [
    "Comprueba si var1 es mayor que 6, y si es así imprime ¡Es enorme!. Si no es así imprime Es chiquitín.."
   ]
  },
  {
   "cell_type": "code",
   "execution_count": 16,
   "id": "86176539",
   "metadata": {},
   "outputs": [
    {
     "name": "stdout",
     "output_type": "stream",
     "text": [
      "¡Es enorme!\n"
     ]
    }
   ],
   "source": [
    "if var1> 6:\n",
    "    print (\"¡Es enorme!\")\n",
    "else:\n",
    "    print (\"es chiquitin\")"
   ]
  },
  {
   "cell_type": "markdown",
   "id": "b54b9a9d",
   "metadata": {},
   "source": [
    "Comprueba si var2 es mayor que 6, y si es así imprime ¡Es enorme también!. Si no es así imprime Es chiquitín también.."
   ]
  },
  {
   "cell_type": "code",
   "execution_count": 17,
   "id": "352e4da7",
   "metadata": {},
   "outputs": [
    {
     "name": "stdout",
     "output_type": "stream",
     "text": [
      "es chiquitin tambien\n"
     ]
    }
   ],
   "source": [
    "if var2>6:\n",
    "    print (\"!es enorme tambien!\")\n",
    "else:\n",
    "    print (\"es chiquitin tambien\")"
   ]
  },
  {
   "cell_type": "markdown",
   "id": "a2295de3",
   "metadata": {},
   "source": [
    "Comprueba si var1 es igual a var3, y si es así imprime Son iguales. Si no es así imprime Son distintos."
   ]
  },
  {
   "cell_type": "code",
   "execution_count": 18,
   "id": "5267367c",
   "metadata": {},
   "outputs": [
    {
     "name": "stdout",
     "output_type": "stream",
     "text": [
      "Son iguales\n"
     ]
    }
   ],
   "source": [
    "if var1 == var3:\n",
    "    print (\"Son iguales\")\n",
    "else:\n",
    "    print (\"son distintos\")"
   ]
  },
  {
   "cell_type": "markdown",
   "id": "49b1f46b",
   "metadata": {},
   "source": [
    "Escribe un programa para una empresa que tiene salas de juegos para todas las edades y quiere calcular de forma automática el precio que debe cobrar a sus clientes por entrar. El programa debe preguntar al usuario:\n",
    "\n",
    "La edad del cliente.\n",
    "\n",
    "Las condiciones que tendremos que chequear:\n",
    "\n",
    "Si el cliente es menor de 4 años puede entrar gratis,\n",
    "\n",
    "Si tiene entre 4 y 18 años debe pagar 5€ y\n",
    "\n",
    "Si es mayor de 18 años, 10€."
   ]
  },
  {
   "cell_type": "code",
   "execution_count": 28,
   "id": "716beab0",
   "metadata": {},
   "outputs": [
    {
     "name": "stdout",
     "output_type": "stream",
     "text": [
      "Entrada 5€\n"
     ]
    }
   ],
   "source": [
    "edad = int (input (\"¿cuál es tu edad?\"))\n",
    "if edad <4:\n",
    "    print (\"Entrada gratuita\")\n",
    "elif edad >= 4 and edad <=18:\n",
    "    print (\"Entrada 5€\")\n",
    "else:\n",
    "    print (\"Entrada 10€\")\n"
   ]
  },
  {
   "cell_type": "markdown",
   "id": "ca9a4c5f",
   "metadata": {},
   "source": [
    "Inicia la variable ahorros con un valor de 5. Crea un bucle while que mientras los ahorros sean igual o menor que 20 imprima por pantalla la cantidad de ahorros que tenemos, y añádele 5 más. Cuando la variable ahorros supere el valor de 20 el bucle deberá parar."
   ]
  },
  {
   "cell_type": "code",
   "execution_count": null,
   "id": "aba3ab98",
   "metadata": {},
   "outputs": [],
   "source": []
  }
 ],
 "metadata": {
  "kernelspec": {
   "display_name": "base",
   "language": "python",
   "name": "python3"
  },
  "language_info": {
   "codemirror_mode": {
    "name": "ipython",
    "version": 3
   },
   "file_extension": ".py",
   "mimetype": "text/x-python",
   "name": "python",
   "nbconvert_exporter": "python",
   "pygments_lexer": "ipython3",
   "version": "3.13.5"
  }
 },
 "nbformat": 4,
 "nbformat_minor": 5
}
