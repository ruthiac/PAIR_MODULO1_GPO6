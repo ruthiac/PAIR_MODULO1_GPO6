{
 "cells": [
  {
   "cell_type": "markdown",
   "id": "d36a1923",
   "metadata": {},
   "source": [
    "Crea las siguientes variables:\n",
    "\n",
    "var1 sea un número con el valor 8.\n",
    "\n",
    "var2 sea un número con el valor 2.\n",
    "\n",
    "var3 sea un número con el valor 8."
   ]
  },
  {
   "cell_type": "code",
   "execution_count": 1,
   "id": "fd47883c",
   "metadata": {},
   "outputs": [],
   "source": [
    "var1 = 8\n",
    "var2 = 2\n",
    "var3 = 8"
   ]
  },
  {
   "cell_type": "markdown",
   "id": "674ca9b0",
   "metadata": {},
   "source": [
    "Comprueba si var1 es mayor que 6, y si es así imprime ¡Es enorme!."
   ]
  },
  {
   "cell_type": "code",
   "execution_count": null,
   "id": "be0f4167",
   "metadata": {},
   "outputs": [
    {
     "name": "stdout",
     "output_type": "stream",
     "text": [
      "¡Es enorme!)\n"
     ]
    }
   ],
   "source": [
    "if var1 > 6:\n",
    "    print (\"¡Es enorme!\")"
   ]
  },
  {
   "cell_type": "markdown",
   "id": "bb07ad1b",
   "metadata": {},
   "source": [
    "Comprueba si var2 es mayor que 6, y si es así imprime ¡Es enorme también!."
   ]
  },
  {
   "cell_type": "code",
   "execution_count": 5,
   "id": "f0ed267b",
   "metadata": {},
   "outputs": [],
   "source": [
    "if var2 > 6:\n",
    "    print (\"¡Es enorme también!\")"
   ]
  },
  {
   "cell_type": "markdown",
   "id": "6a2214d4",
   "metadata": {},
   "source": [
    "Comprueba si var3 es mayor que 6, y si es así imprime ¡Es enorme! seguido por ¡Pero de verdad! en otra línea (deberéis tener dos print)."
   ]
  },
  {
   "cell_type": "code",
   "execution_count": 6,
   "id": "d208570e",
   "metadata": {},
   "outputs": [
    {
     "name": "stdout",
     "output_type": "stream",
     "text": [
      "¡Es enorme!\n",
      "¡Pero de verdad!\n"
     ]
    }
   ],
   "source": [
    "if var3 > 6:\n",
    "    print (\"¡Es enorme!\")\n",
    "    print (\"¡Pero de verdad!\")"
   ]
  },
  {
   "cell_type": "markdown",
   "id": "d2b07f7b",
   "metadata": {},
   "source": [
    "Comprueba si var1 es igual que var3, y si es así imprime Son iguales.."
   ]
  },
  {
   "cell_type": "code",
   "execution_count": 9,
   "id": "2e93033b",
   "metadata": {},
   "outputs": [
    {
     "name": "stdout",
     "output_type": "stream",
     "text": [
      "son iguales\n"
     ]
    }
   ],
   "source": [
    "if var1 == var3:\n",
    "    print (\"son iguales\")"
   ]
  },
  {
   "cell_type": "markdown",
   "id": "6817d9c9",
   "metadata": {},
   "source": [
    "Comprueba si var1 es igual que var2, y si es así imprime Son iguales."
   ]
  },
  {
   "cell_type": "code",
   "execution_count": 10,
   "id": "2c7a50b1",
   "metadata": {},
   "outputs": [],
   "source": [
    "if var1 == var2:\n",
    "    print (\"son iguales\")"
   ]
  },
  {
   "cell_type": "markdown",
   "id": "0f6d8f65",
   "metadata": {},
   "source": [
    "Comprueba si var1 es mayor o igual que var2, y si es así calcula la diferencia entre var1 y var2, guárdala en la variable dif, e imprime 'La diferencia es',dif."
   ]
  },
  {
   "cell_type": "code",
   "execution_count": 13,
   "id": "d38caff8",
   "metadata": {},
   "outputs": [],
   "source": [
    "dif = var1 - var2"
   ]
  },
  {
   "cell_type": "code",
   "execution_count": 14,
   "id": "8798f6a5",
   "metadata": {},
   "outputs": [
    {
     "name": "stdout",
     "output_type": "stream",
     "text": [
      "La diferencia es 6\n"
     ]
    }
   ],
   "source": [
    "if var1 >= var2:\n",
    "   print (\"La diferencia es\", dif)"
   ]
  },
  {
   "cell_type": "markdown",
   "id": "c43b9c9f",
   "metadata": {},
   "source": [
    "Comprueba si var1 es mayor que 6, y si es así imprime ¡Es enorme!. Si no es así imprime Es chiquitín.."
   ]
  },
  {
   "cell_type": "code",
   "execution_count": 16,
   "id": "86176539",
   "metadata": {},
   "outputs": [
    {
     "name": "stdout",
     "output_type": "stream",
     "text": [
      "¡Es enorme!\n"
     ]
    }
   ],
   "source": [
    "if var1> 6:\n",
    "    print (\"¡Es enorme!\")\n",
    "else:\n",
    "    print (\"es chiquitin\")"
   ]
  },
  {
   "cell_type": "markdown",
   "id": "b54b9a9d",
   "metadata": {},
   "source": [
    "Comprueba si var2 es mayor que 6, y si es así imprime ¡Es enorme también!. Si no es así imprime Es chiquitín también.."
   ]
  },
  {
   "cell_type": "code",
   "execution_count": 17,
   "id": "352e4da7",
   "metadata": {},
   "outputs": [
    {
     "name": "stdout",
     "output_type": "stream",
     "text": [
      "es chiquitin tambien\n"
     ]
    }
   ],
   "source": [
    "if var2>6:\n",
    "    print (\"!es enorme tambien!\")\n",
    "else:\n",
    "    print (\"es chiquitin tambien\")"
   ]
  },
  {
   "cell_type": "markdown",
   "id": "a2295de3",
   "metadata": {},
   "source": [
    "Comprueba si var1 es igual a var3, y si es así imprime Son iguales. Si no es así imprime Son distintos."
   ]
  },
  {
   "cell_type": "code",
   "execution_count": 18,
   "id": "5267367c",
   "metadata": {},
   "outputs": [
    {
     "name": "stdout",
     "output_type": "stream",
     "text": [
      "Son iguales\n"
     ]
    }
   ],
   "source": [
    "if var1 == var3:\n",
    "    print (\"Son iguales\")\n",
    "else:\n",
    "    print (\"son distintos\")"
   ]
  },
  {
   "cell_type": "markdown",
   "id": "49b1f46b",
   "metadata": {},
   "source": [
    "Escribe un programa para una empresa que tiene salas de juegos para todas las edades y quiere calcular de forma automática el precio que debe cobrar a sus clientes por entrar. El programa debe preguntar al usuario:\n",
    "\n",
    "La edad del cliente.\n",
    "\n",
    "Las condiciones que tendremos que chequear:\n",
    "\n",
    "Si el cliente es menor de 4 años puede entrar gratis,\n",
    "\n",
    "Si tiene entre 4 y 18 años debe pagar 5€ y\n",
    "\n",
    "Si es mayor de 18 años, 10€."
   ]
  },
  {
   "cell_type": "code",
   "execution_count": 28,
   "id": "716beab0",
   "metadata": {},
   "outputs": [
    {
     "name": "stdout",
     "output_type": "stream",
     "text": [
      "Entrada 5€\n"
     ]
    }
   ],
   "source": [
    "edad = int (input (\"¿cuál es tu edad?\"))\n",
    "if edad <4:\n",
    "    print (\"Entrada gratuita\")\n",
    "elif edad >= 4 and edad <=18:\n",
    "    print (\"Entrada 5€\")\n",
    "else:\n",
    "    print (\"Entrada 10€\")\n"
   ]
  },
  {
   "cell_type": "markdown",
   "id": "ca9a4c5f",
   "metadata": {},
   "source": [
    "Inicia la variable ahorros con un valor de 5. Crea un bucle while que mientras los ahorros sean igual o menor que 20 imprima por pantalla la cantidad de ahorros que tenemos, y añádele 5 más. Cuando la variable ahorros supere el valor de 20 el bucle deberá parar."
   ]
  },
  {
   "cell_type": "code",
   "execution_count": 3,
   "id": "5d1361c5",
   "metadata": {},
   "outputs": [
    {
     "name": "stdout",
     "output_type": "stream",
     "text": [
      "los ahorros que tengo son 5\n",
      "los ahorros que tengo son 10\n",
      "los ahorros que tengo son 15\n",
      "los ahorros que tengo son 20\n"
     ]
    }
   ],
   "source": [
    "ahorros = 5\n",
    "while ahorros <=20:\n",
    "        print (f\"los ahorros que tengo son {ahorros}\")\n",
    "        ahorros +=5            \n",
    "\n"
   ]
  },
  {
   "cell_type": "markdown",
   "id": "75599670",
   "metadata": {},
   "source": [
    "Escribe un programa que convierta grados Celsius a grados Fahrenheit o viceversa, según la elección del usuario. Para eso tendrás que preguntar:\n",
    "\n",
    "Desde que unidades va a convertir la temperatura, Celsius o Fahrenheit.\n",
    "\n",
    "Cuál es valor de la temperatura que quiere convertir."
   ]
  },
  {
   "cell_type": "code",
   "execution_count": 9,
   "id": "1c00134d",
   "metadata": {},
   "outputs": [
    {
     "name": "stdout",
     "output_type": "stream",
     "text": [
      "59.0ºF son 13.333333333333334ºC\n"
     ]
    }
   ],
   "source": [
    "unidad= input(\"¿Desde que únidad de temperatura quieres convertir? Celsius (C) o Farenheit (F):\").upper()\n",
    "temperatura= float(input(\"Introduce la tepratura a convertir:\"))\n",
    "if unidad == \"C\":\n",
    "     equivalencia_Farenheit= (temperatura *9/5)+32\n",
    "     print (f\"{temperatura}ºC son {equivalencia_Farenheit:}ºF\")\n",
    "elif unidad == \"F\":\n",
    "     equivalencia_Farenheit= (temperatura -35) *5/9\n",
    "     print (f\"{temperatura}ºF son {equivalencia_Farenheit:}ºC\")"
   ]
  },
  {
   "cell_type": "markdown",
   "id": "76d6fbcc",
   "metadata": {},
   "source": [
    "Crea un programa que calcule el impuesto sobre la renta de una persona basado en su ingreso anual y su estado civil (soltero o casado). Para eso deberás:\n",
    "\n",
    "Solicitar al usuario su ingreso anual.\n",
    "\n",
    "Preguntar al usuario su estado civil, permitiendo dos opciones: \"soltero\" (S) o \"casado\" (C).\n",
    "\n",
    "Calcular el impuesto sobre la renta utilizando las siguientes reglas:\n",
    "\n",
    "Si el estado civil es \"soltero\" (S):\n",
    "\n",
    "Si el ingreso anual es menor o igual a $9,875, el impuesto es el 10% del ingreso anual.\n",
    "\n",
    "Si el ingreso anual está entre $9,876 y $40,125, el impuesto es el 10% de los primeros $9,875 más el 12% de la cantidad que excede los $9,875.\n",
    "\n",
    "Si el estado civil es \"casado\" (C):\n",
    "\n",
    "Si el ingreso anual es menor o igual a $19,850, el impuesto es el 10% del ingreso anual.\n",
    "\n",
    "Si el ingreso anual está entre $19,851 y $80,250, el impuesto es el 10% de los primeros $19,850 más el 12% de la cantidad que excede los $19,850."
   ]
  },
  {
   "cell_type": "code",
   "execution_count": 4,
   "id": "413270a3",
   "metadata": {},
   "outputs": [
    {
     "name": "stdout",
     "output_type": "stream",
     "text": [
      "tu impuesto sobre la renta es:2184.62$\n"
     ]
    }
   ],
   "source": [
    "ingresos_anuales= float(input(\"Introduzca sus ingresos anuales en $\"))\n",
    "estado_civil= input(\"Indica tu estado civil: soltera (S) o casada (C)\").upper()\n",
    "if estado_civil == \"S\":\n",
    "    if ingresos_anuales <= 9875:\n",
    "       impuesto= ingresos_anuales * 0.10\n",
    "    elif ingresos_anuales <=40125:\n",
    "        impuesto= (9875 * 0.10) + ((ingresos_anuales - 9875)* 0.12)\n",
    "elif estado_civil == \"C\":\n",
    "    if ingresos_anuales <= 19850:\n",
    "        impuesto= ingresos_anuales *0.10\n",
    "    elif ingresos_anuales >=19851 and 80250:\n",
    "        impuesto= (19850 * 0.12) + (ingresos_anuales - 19851)* 0.12\n",
    "if impuesto is not None:\n",
    "    print(f\"tu impuesto sobre la renta es:{impuesto:.2f}$\")"
   ]
  },
  {
   "cell_type": "markdown",
   "id": "2e6750e8",
   "metadata": {},
   "source": [
    "Crea un programa que evalúe el nivel de contaminación del aire en función de la concentración de partículas en suspensión (PM2.5) en microgramos por metro cúbico (µg/m³). Para eso deberás:\n",
    "\n",
    "Solicita al usuario que ingrese la concentración de PM2.5 en el aire en µg/m³. El usuario debe ingresar un valor numérico.\n",
    "\n",
    "Evalúa el nivel de contaminación del aire según la siguiente escala:\n",
    "\n",
    "Si la concentración de PM2.5 es menor o igual a 12 µg/m³, el aire se considera \"Excelente\".\n",
    "\n",
    "Si la concentración de PM2.5 está entre 13 µg/m³ y 35 µg/m³, el aire se considera \"Bueno\".\n",
    "\n",
    "Si la concentración de PM2.5 está entre 36 µg/m³ y 55 µg/m³, el aire se considera \"Aceptable\".\n",
    "\n",
    "Si la concentración de PM2.5 está entre 56 µg/m³ y 150 µg/m³, el aire se considera \"No Saludable para Grupos Sensibles\".\n",
    "\n",
    "Si la concentración de PM2.5 es mayor a 150 µg/m³, el aire se considera \"No Saludable\".\n",
    "\n",
    "Muestra un mensaje indicando el estado de la calidad del aire. Por ejemplo, si la concentración de PM2.5 es 25 µg/m³, el programa debe mostrar: \"La calidad del aire es Buena\".\n",
    "\n",
    "Además, si la concentración de PM2.5 está en la categoría \"No Saludable para Grupos Sensibles\" o \"No Saludable\", el programa debe advertir al usuario sobre los posibles efectos en la salud.\n",
    "\n",
    "Si la concentración ingresada por el usuario es negativa o no es un número válido, el programa debe mostrar un mensaje de error."
   ]
  },
  {
   "cell_type": "code",
   "execution_count": null,
   "id": "9a37084e",
   "metadata": {},
   "outputs": [],
   "source": [
    "try:\n",
    "   nivel_contaminacion_aire= float(input(\"ingrese la concentración de PM2.5 en el aire en µg/m³\"))\n",
    "except ValueError:\n",
    "      print (\"Error: debe introducir y número o valor válido\")\n",
    "      exit ()\n",
    "if nivel_contaminacion_aire <=12:\n",
    "      print (\"La calidad del aire es excelente\")\n",
    "elif nivel_contaminacion_aire <= 35:\n",
    "      print (\"La calidad del aire es buena\")\n",
    "elif nivel_contaminacion_aire <= 55:\n",
    "      print (\"La calidad del aire es aceptable\")\n",
    "elif nivel_contaminacion_aire <= 150:\n",
    "      print (\"La calidad del aire no es Saludable para Grupos Sensibles.\\nAdvertencia:\\nLa mala calidad del aire causa efectos negativos a corto y largo plazo, incluyendo problemas respiratorios como asma y bronquitis, enfermedades cardíacas, accidentes cerebrovasculares y cáncer de pulmón\")\n",
    "else:\n",
    "      nivel_contaminacion_aire >150\n",
    "      print (\"La calidad del aire no es Saludable.\\nAdvertencia:\\nLa mala calidad del aire causa efectos negativos a corto y largo plazo, incluyendo problemas respiratorios como asma y bronquitis, enfermedades cardíacas, accidentes cerebrovasculares y cáncer de pulmón\")       "
   ]
  },
  {
   "cell_type": "code",
   "execution_count": null,
   "id": "86aee9f5",
   "metadata": {},
   "outputs": [
    {
     "name": "stdout",
     "output_type": "stream",
     "text": [
      "Error: debe introducir y número o valor válido\n"
     ]
    }
   ],
   "source": [
    "#Modificado\n",
    "try:\n",
    "      nivel_contaminacion_aire= float(input(\"ingrese la concentración de PM2.5 en el aire en µg/m³\"))\n",
    "      \n",
    "      if nivel_contaminacion_aire <=12:\n",
    "            print (\"La calidad del aire es excelente\")\n",
    "      elif nivel_contaminacion_aire <= 35:\n",
    "            print (\"La calidad del aire es buena\")\n",
    "      elif nivel_contaminacion_aire <= 55:\n",
    "            print (\"La calidad del aire es aceptable\")\n",
    "      elif nivel_contaminacion_aire <= 150:\n",
    "            print (\"La calidad del aire no es Saludable para Grupos Sensibles.\\nAdvertencia:\\nLa mala calidad del aire causa efectos negativos a corto y largo plazo, incluyendo problemas respiratorios como asma y bronquitis, enfermedades cardíacas, accidentes cerebrovasculares y cáncer de pulmón\")\n",
    "      else:\n",
    "            nivel_contaminacion_aire >150\n",
    "            print (\"La calidad del aire no es Saludable.\\nAdvertencia:\\nLa mala calidad del aire causa efectos negativos a corto y largo plazo, incluyendo problemas respiratorios como asma y bronquitis, enfermedades cardíacas, accidentes cerebrovasculares y cáncer de pulmón\") \n",
    "except ValueError:\n",
    "      print (\"Error: debe introducir y número o valor válido\")\n",
    "       \n",
    "      "
   ]
  },
  {
   "cell_type": "markdown",
   "id": "01757176",
   "metadata": {},
   "source": [
    "Este ejercicio está hecho de otro modo a la solucion y en principio me lanza bien el resultado salvo cuando el valor no es correcto. Si es numérico da error y tambien valor pero si es str te saca del kernel."
   ]
  }
 ],
 "metadata": {
  "kernelspec": {
   "display_name": "base",
   "language": "python",
   "name": "python3"
  },
  "language_info": {
   "codemirror_mode": {
    "name": "ipython",
    "version": 3
   },
   "file_extension": ".py",
   "mimetype": "text/x-python",
   "name": "python",
   "nbconvert_exporter": "python",
   "pygments_lexer": "ipython3",
   "version": "3.12.7"
  }
 },
 "nbformat": 4,
 "nbformat_minor": 5
}
