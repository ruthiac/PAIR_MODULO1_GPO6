{
 "cells": [
  {
   "cell_type": "markdown",
   "id": "fbc9cb14",
   "metadata": {},
   "source": [
    "# Listas y Tuplas"
   ]
  },
  {
   "cell_type": "markdown",
   "id": "2483244a",
   "metadata": {},
   "source": [
    "Haz una lista llamada colores donde almacenemos los primeros 6 colores que te vengan a la mente."
   ]
  },
  {
   "cell_type": "code",
   "execution_count": 2,
   "id": "7cbe6254",
   "metadata": {},
   "outputs": [
    {
     "data": {
      "text/plain": [
       "['rojo', 'verde', 'azul', 'amarillo', 'violeta', 'naranja']"
      ]
     },
     "execution_count": 2,
     "metadata": {},
     "output_type": "execute_result"
    }
   ],
   "source": [
    "colores = [\"rojo\", \"verde\", \"azul\", \"amarillo\", \"violeta\", \"naranja\"]\n",
    "colores"
   ]
  },
  {
   "cell_type": "markdown",
   "id": "81942782",
   "metadata": {},
   "source": [
    "Haz una lista llamada buses de las líneas de autobuses que pasan por tu casa."
   ]
  },
  {
   "cell_type": "code",
   "execution_count": 3,
   "id": "504d75ca",
   "metadata": {},
   "outputs": [
    {
     "data": {
      "text/plain": [
       "[10, 8, 5, 33]"
      ]
     },
     "execution_count": 3,
     "metadata": {},
     "output_type": "execute_result"
    }
   ],
   "source": [
    "buses = [10, 8, 5, 33]\n",
    "buses"
   ]
  },
  {
   "cell_type": "markdown",
   "id": "5379157c",
   "metadata": {},
   "source": [
    "Apunta la previsión de temperaturas máximas para todos los días de esta semana en temperaturas."
   ]
  },
  {
   "cell_type": "code",
   "execution_count": 4,
   "id": "3cfddae3",
   "metadata": {},
   "outputs": [
    {
     "data": {
      "text/plain": [
       "[23, 20, 36.7, 18, 21, 29, 30]"
      ]
     },
     "execution_count": 4,
     "metadata": {},
     "output_type": "execute_result"
    }
   ],
   "source": [
    "temperaturas = [23, 20, 36.7, 18, 21, 29, 30]\n",
    "temperaturas"
   ]
  },
  {
   "cell_type": "markdown",
   "id": "059a635a",
   "metadata": {},
   "source": [
    "Convierte tu(s) nombre(s) a una lista nombres de caracteres."
   ]
  },
  {
   "cell_type": "code",
   "execution_count": 5,
   "id": "8e89e23a",
   "metadata": {},
   "outputs": [
    {
     "data": {
      "text/plain": [
       "['P', 'a', 't', 'r', 'i', 'c', 'i', 'a']"
      ]
     },
     "execution_count": 5,
     "metadata": {},
     "output_type": "execute_result"
    }
   ],
   "source": [
    "nombres = list(\"Patricia\")\n",
    "nombres"
   ]
  },
  {
   "cell_type": "markdown",
   "id": "c07242a1",
   "metadata": {},
   "source": [
    "Convierte tu(s) apellido(s) a una lista apellidos de caracteres."
   ]
  },
  {
   "cell_type": "code",
   "execution_count": 6,
   "id": "e169888a",
   "metadata": {},
   "outputs": [
    {
     "data": {
      "text/plain": [
       "['A', 'n', 'a', 'y', 'a', ' ', 'M', 'o', 'r', 'a', 'l', 'e', 's']"
      ]
     },
     "execution_count": 6,
     "metadata": {},
     "output_type": "execute_result"
    }
   ],
   "source": [
    "apellidos = list(\"Anaya Morales\")\n",
    "apellidos"
   ]
  },
  {
   "cell_type": "markdown",
   "id": "2b11013b",
   "metadata": {},
   "source": [
    "¿Cuántos búses pasan por tu casa?"
   ]
  },
  {
   "cell_type": "code",
   "execution_count": 7,
   "id": "41299edf",
   "metadata": {},
   "outputs": [
    {
     "name": "stdout",
     "output_type": "stream",
     "text": [
      "Por mi casa pasan 4 autobuses\n"
     ]
    }
   ],
   "source": [
    "print(\"Por mi casa pasan\", len(buses), \"autobuses\")"
   ]
  },
  {
   "cell_type": "markdown",
   "id": "196ab71f",
   "metadata": {},
   "source": [
    "¿Cuántos caracteres hay en tu apellido(s) (inluyendo los espacios)?"
   ]
  },
  {
   "cell_type": "code",
   "execution_count": 8,
   "id": "f0e88222",
   "metadata": {},
   "outputs": [
    {
     "name": "stdout",
     "output_type": "stream",
     "text": [
      "En mi apellido hay 13 caracteres\n"
     ]
    }
   ],
   "source": [
    "print(\"En mi apellido hay\", len(apellidos), \"caracteres\")"
   ]
  },
  {
   "cell_type": "markdown",
   "id": "ce298f1b",
   "metadata": {},
   "source": [
    "¿Cuáles son las temperaturas máximas (t_max) y mínimas (t_min) para esta semana?"
   ]
  },
  {
   "cell_type": "code",
   "execution_count": 9,
   "id": "3aac0e04",
   "metadata": {},
   "outputs": [
    {
     "name": "stdout",
     "output_type": "stream",
     "text": [
      "Esta semana la temperatura máxima es de 36.7\n",
      "Esta semana la temperatura mínima es de 18\n"
     ]
    }
   ],
   "source": [
    "t_max = max(temperaturas)\n",
    "t_min = min(temperaturas)\n",
    "print(\"Esta semana la temperatura máxima es de\", t_max)\n",
    "print(\"Esta semana la temperatura mínima es de\", t_min)"
   ]
  },
  {
   "cell_type": "markdown",
   "id": "cea914ea",
   "metadata": {},
   "source": [
    "Hay una 'e' en tu nombre?"
   ]
  },
  {
   "cell_type": "code",
   "execution_count": 10,
   "id": "40bd4ee9",
   "metadata": {},
   "outputs": [
    {
     "name": "stdout",
     "output_type": "stream",
     "text": [
      "En mi nombre hay 0 e.\n"
     ]
    }
   ],
   "source": [
    "print(\"En mi nombre hay\", nombres.count(\"e\"), \"e.\")"
   ]
  },
  {
   "cell_type": "code",
   "execution_count": 11,
   "id": "fdf1a023",
   "metadata": {},
   "outputs": [
    {
     "data": {
      "text/plain": [
       "False"
      ]
     },
     "execution_count": 11,
     "metadata": {},
     "output_type": "execute_result"
    }
   ],
   "source": [
    "\"e\" in str(nombres)"
   ]
  },
  {
   "cell_type": "markdown",
   "id": "3bf9a74d",
   "metadata": {},
   "source": [
    "Tienes el color 'rosa' en la lista de colores?"
   ]
  },
  {
   "cell_type": "code",
   "execution_count": 12,
   "id": "ef1b657e",
   "metadata": {},
   "outputs": [
    {
     "data": {
      "text/plain": [
       "False"
      ]
     },
     "execution_count": 12,
     "metadata": {},
     "output_type": "execute_result"
    }
   ],
   "source": [
    "\"rosa\" in colores"
   ]
  },
  {
   "cell_type": "markdown",
   "id": "d4254c26",
   "metadata": {},
   "source": [
    "¿Tiene una 'x' tu nombre? (Usa not in)"
   ]
  },
  {
   "cell_type": "code",
   "execution_count": 13,
   "id": "dc438226",
   "metadata": {},
   "outputs": [
    {
     "data": {
      "text/plain": [
       "True"
      ]
     },
     "execution_count": 13,
     "metadata": {},
     "output_type": "execute_result"
    }
   ],
   "source": [
    "\"x\" not in str(nombres)"
   ]
  },
  {
   "cell_type": "markdown",
   "id": "0eb960e0",
   "metadata": {},
   "source": [
    "Copia el contenido de temperaturas a temperaturas2, y temperaturas3."
   ]
  },
  {
   "cell_type": "code",
   "execution_count": 14,
   "id": "0b4c376c",
   "metadata": {},
   "outputs": [],
   "source": [
    "temperaturas2 = temperaturas.copy()\n",
    "temperaturas3 = temperaturas.copy()"
   ]
  },
  {
   "cell_type": "markdown",
   "id": "3595b277",
   "metadata": {},
   "source": [
    "Vacía el contenido de la variable temperaturas2"
   ]
  },
  {
   "cell_type": "code",
   "execution_count": 15,
   "id": "c2b4432e",
   "metadata": {},
   "outputs": [
    {
     "name": "stdout",
     "output_type": "stream",
     "text": [
      "[]\n"
     ]
    }
   ],
   "source": [
    "temperaturas2.clear()\n",
    "print(temperaturas2)"
   ]
  },
  {
   "cell_type": "markdown",
   "id": "c7d11a12",
   "metadata": {},
   "source": [
    "Imprime el contenido de temperaturas y temperaturas2."
   ]
  },
  {
   "cell_type": "code",
   "execution_count": 16,
   "id": "d502057e",
   "metadata": {},
   "outputs": [
    {
     "name": "stdout",
     "output_type": "stream",
     "text": [
      "[23, 20, 36.7, 18, 21, 29, 30]\n",
      "[]\n"
     ]
    }
   ],
   "source": [
    "print(temperaturas)\n",
    "print(temperaturas2)"
   ]
  },
  {
   "cell_type": "markdown",
   "id": "6bcb977c",
   "metadata": {},
   "source": [
    "Copia el contenido de nombres a nombres2."
   ]
  },
  {
   "cell_type": "code",
   "execution_count": 17,
   "id": "aec55ea8",
   "metadata": {},
   "outputs": [],
   "source": [
    "nombres2 = nombres.copy()"
   ]
  },
  {
   "cell_type": "markdown",
   "id": "15c4386e",
   "metadata": {},
   "source": [
    "Copia el contenido de apellidos a apellidos2."
   ]
  },
  {
   "cell_type": "code",
   "execution_count": 18,
   "id": "37f7dbd2",
   "metadata": {},
   "outputs": [],
   "source": [
    "apellidos2 = apellidos.copy()"
   ]
  },
  {
   "cell_type": "markdown",
   "id": "83009dca",
   "metadata": {},
   "source": [
    "Ordena la variable temperaturas3 de mayor a menor."
   ]
  },
  {
   "cell_type": "code",
   "execution_count": 19,
   "id": "0ba5df39",
   "metadata": {},
   "outputs": [
    {
     "data": {
      "text/plain": [
       "[18, 20, 21, 23, 29, 30, 36.7]"
      ]
     },
     "execution_count": 19,
     "metadata": {},
     "output_type": "execute_result"
    }
   ],
   "source": [
    "temperaturas3.sort()\n",
    "temperaturas3"
   ]
  },
  {
   "cell_type": "markdown",
   "id": "3109831b",
   "metadata": {},
   "source": [
    "Ordena los caracteres de tu nombre y tu apellido en las listas nombres2 y apellidos2. Imprime el resultado y investiga: ¿qué orden ha cogido? ¿Cómo trata las mayúsculas?"
   ]
  },
  {
   "cell_type": "code",
   "execution_count": 20,
   "id": "b6cbdb6a",
   "metadata": {},
   "outputs": [
    {
     "name": "stdout",
     "output_type": "stream",
     "text": [
      "['P', 'a', 'a', 'c', 'i', 'i', 'r', 't'] [' ', 'A', 'M', 'a', 'a', 'a', 'e', 'l', 'n', 'o', 'r', 's', 'y']\n"
     ]
    }
   ],
   "source": [
    "nombres2.sort()\n",
    "apellidos2.sort()\n",
    "print(nombres2, apellidos2)\n",
    "\n",
    "#orden: espacios, mayúsculas y minúsculas"
   ]
  },
  {
   "cell_type": "markdown",
   "id": "5322e58b",
   "metadata": {},
   "source": [
    "¿Cuántas 'a' tiene tu nombre? ¿Y cuántas 'o'?"
   ]
  },
  {
   "cell_type": "code",
   "execution_count": 21,
   "id": "536f5246",
   "metadata": {},
   "outputs": [
    {
     "name": "stdout",
     "output_type": "stream",
     "text": [
      "Mi nombre tiene 0 e.\n",
      "Mi nombre tiene 0 o.\n"
     ]
    }
   ],
   "source": [
    "print(\"Mi nombre tiene\",nombres.count(\"e\"), \"e.\")\n",
    "print(\"Mi nombre tiene\", nombres.count(\"o\"), \"o.\")"
   ]
  },
  {
   "cell_type": "markdown",
   "id": "954e8227",
   "metadata": {},
   "source": [
    "Verifica si los resultados de ejercicio 19 son iguales para la lista nombres2."
   ]
  },
  {
   "cell_type": "code",
   "execution_count": 22,
   "id": "c8bcba6a",
   "metadata": {},
   "outputs": [
    {
     "name": "stdout",
     "output_type": "stream",
     "text": [
      "Mi nombre en 'nombres2' tiene 0 e.\n",
      "Mi nombre en 'nombres2' tiene 0 o.\n"
     ]
    }
   ],
   "source": [
    "print(\"Mi nombre en 'nombres2' tiene\",nombres2.count(\"e\"), \"e.\")\n",
    "print(\"Mi nombre en 'nombres2' tiene\", nombres2.count(\"o\"), \"o.\")"
   ]
  },
  {
   "cell_type": "markdown",
   "id": "0ba25ddc",
   "metadata": {},
   "source": [
    "¿Cuántas veces esta semana llega la temperatura a la t_max? ¿Y cuántas a la t_min?"
   ]
  },
  {
   "cell_type": "code",
   "execution_count": 23,
   "id": "719088e3",
   "metadata": {},
   "outputs": [
    {
     "name": "stdout",
     "output_type": "stream",
     "text": [
      "Esta semana llegamos 1 vez a la temperatura máxima\n",
      "Esta semana llegamos 1 vez a la temperatura mínima\n"
     ]
    }
   ],
   "source": [
    "print(\"Esta semana llegamos\", temperaturas.count(t_max), \"vez a la temperatura máxima\")\n",
    "print(\"Esta semana llegamos\", temperaturas.count(t_min), \"vez a la temperatura mínima\")"
   ]
  },
  {
   "cell_type": "markdown",
   "id": "a27b0f97",
   "metadata": {},
   "source": [
    "La lista dias_en contiene 'monday', 'tuesday', 'wednesday', 'thursday', 'friday', 'saturday', y 'sunday'."
   ]
  },
  {
   "cell_type": "code",
   "execution_count": 24,
   "id": "23c065ee",
   "metadata": {},
   "outputs": [],
   "source": [
    "dias_en = [\"monday\", \"tueday\", \"wednesday\", \"thursday\", \"friday\", \"saturday\", \"sunday\"]"
   ]
  },
  {
   "cell_type": "markdown",
   "id": "d4a1e657",
   "metadata": {},
   "source": [
    "Define temperaturas_diciembre 👇🏽:"
   ]
  },
  {
   "cell_type": "code",
   "execution_count": 25,
   "id": "76846a4a",
   "metadata": {},
   "outputs": [],
   "source": [
    "temperaturas_diciembre = [10, 10, 13, 14, 12, 15, 12, 11, 13, 17, 18, 15, 15, 17, 17, 13, 13, 11, 12, 10, 12, 14, 12, 12, 11, 12, 16, 16, 14, 17, 18]"
   ]
  },
  {
   "cell_type": "markdown",
   "id": "e14dcf33",
   "metadata": {},
   "source": [
    "¿Cuál es el penúltimo día de la semana?"
   ]
  },
  {
   "cell_type": "code",
   "execution_count": 26,
   "id": "417a4cae",
   "metadata": {},
   "outputs": [
    {
     "name": "stdout",
     "output_type": "stream",
     "text": [
      "El penúltimo día de la semana es saturday\n",
      "El penúltimo día de la semana es saturday\n"
     ]
    }
   ],
   "source": [
    "print(\"El penúltimo día de la semana es\", dias_en[-2])\n",
    "print(\"El penúltimo día de la semana es\", dias_en[5])"
   ]
  },
  {
   "cell_type": "markdown",
   "id": "2d0e038f",
   "metadata": {},
   "source": [
    "¿Cuál es el último elemento de la lista de temperaturas de diciembre?"
   ]
  },
  {
   "cell_type": "code",
   "execution_count": 27,
   "id": "ba01efa7",
   "metadata": {},
   "outputs": [
    {
     "name": "stdout",
     "output_type": "stream",
     "text": [
      "El último elemento de la lista de temperaturas de diciembre es 18\n",
      "El último elemento de la lista de temperaturas de diciembre es 18\n"
     ]
    }
   ],
   "source": [
    "print(\"El último elemento de la lista de temperaturas de diciembre es\", temperaturas_diciembre[-1])\n",
    "print(\"El último elemento de la lista de temperaturas de diciembre es\", temperaturas_diciembre[30])"
   ]
  },
  {
   "cell_type": "markdown",
   "id": "ded5b7d6",
   "metadata": {},
   "source": [
    "¿Está 'friday' en la lista de días en inglés? Si está, ¿dónde?"
   ]
  },
  {
   "cell_type": "code",
   "execution_count": 28,
   "id": "5f0b172e",
   "metadata": {},
   "outputs": [
    {
     "name": "stdout",
     "output_type": "stream",
     "text": [
      "True\n",
      "El viernes se encuentra en la posición 4 de la lista\n"
     ]
    }
   ],
   "source": [
    "print(\"friday\" in dias_en)\n",
    "print(\"El viernes se encuentra en la posición\", dias_en.index(\"friday\"), \"de la lista\")"
   ]
  },
  {
   "cell_type": "markdown",
   "id": "e07d220b",
   "metadata": {},
   "source": [
    "¿Cuál era la temperatura máxima en diciembre?"
   ]
  },
  {
   "cell_type": "code",
   "execution_count": 29,
   "id": "2d0cf7ca",
   "metadata": {},
   "outputs": [
    {
     "name": "stdout",
     "output_type": "stream",
     "text": [
      "La temperatura máxima en diciembre fue de 18 grados\n"
     ]
    }
   ],
   "source": [
    "print(\"La temperatura máxima en diciembre fue de\", max(temperaturas_diciembre), \"grados\")"
   ]
  },
  {
   "cell_type": "markdown",
   "id": "3744053b",
   "metadata": {},
   "source": [
    "Encuentra el índice de 'miércoles' en dias_es."
   ]
  },
  {
   "cell_type": "code",
   "execution_count": 30,
   "id": "5015396e",
   "metadata": {},
   "outputs": [
    {
     "name": "stdout",
     "output_type": "stream",
     "text": [
      "El miércoles se encuentra en la posición 2\n"
     ]
    }
   ],
   "source": [
    "print(\"El miércoles se encuentra en la posición\", dias_en.index(\"wednesday\"))"
   ]
  },
  {
   "cell_type": "markdown",
   "id": "55f16ada",
   "metadata": {},
   "source": [
    "(Bonus) Imprime esta frase en pantalla: 'La temperatura máxima esta semana será 14 ºC, que ocurrirá en 1 días(s). El día más frío tendrá una temperatura máxima de 10 ºC, que ocurrirá en 2 día(s).'"
   ]
  },
  {
   "cell_type": "code",
   "execution_count": 31,
   "id": "585e90cc",
   "metadata": {},
   "outputs": [
    {
     "name": "stdout",
     "output_type": "stream",
     "text": [
      "La temperatura máxima esta semana será 36.7 ºC, que ocurrirá en 1 días(s). El día más friolero tendrá una temperatura máxima de 18 ºC, que ocurrirá en 1 día(s).\n"
     ]
    }
   ],
   "source": [
    "print(f'La temperatura máxima esta semana será {t_max} ºC, que ocurrirá en {temperaturas.count(t_max)} días(s). El día más friolero tendrá una temperatura máxima de {t_min} ºC, que ocurrirá en {temperaturas.count(t_min)} día(s).')"
   ]
  },
  {
   "cell_type": "markdown",
   "id": "1b18e7aa",
   "metadata": {},
   "source": [
    "## Definir tuplas"
   ]
  },
  {
   "cell_type": "code",
   "execution_count": 32,
   "id": "6d9658e4",
   "metadata": {},
   "outputs": [],
   "source": [
    "# Crea una tupla persona1 para juntar los siguientes datos: 61 kg, 1.54 m altura, pelo marrón, sin usar paréntesis. (Serán del tipo int, float y str.)\n",
    "\n",
    "persona1 = 61, 1.54, \"pelo marrón\""
   ]
  },
  {
   "cell_type": "code",
   "execution_count": 33,
   "id": "22c9f2f9",
   "metadata": {},
   "outputs": [],
   "source": [
    "# Crea una tupla para la persona2 de 68 kg, 1.65 m y pelo rubio, usando paréntesis.\n",
    "\n",
    "persona2 = (68, 1.65, \"pelo rubio\")"
   ]
  },
  {
   "cell_type": "code",
   "execution_count": 34,
   "id": "c27c22d3",
   "metadata": {},
   "outputs": [
    {
     "data": {
      "text/plain": [
       "list"
      ]
     },
     "execution_count": 34,
     "metadata": {},
     "output_type": "execute_result"
    }
   ],
   "source": [
    "# Crea una lista talla que recompila 'M', 42, y 39.\n",
    "\n",
    "talla = [\"M\", 42, 39]\n",
    "type(talla)"
   ]
  },
  {
   "cell_type": "markdown",
   "id": "369d0969",
   "metadata": {},
   "source": [
    "## Convertir y juntar"
   ]
  },
  {
   "cell_type": "code",
   "execution_count": 35,
   "id": "af9f089e",
   "metadata": {},
   "outputs": [
    {
     "data": {
      "text/plain": [
       "tuple"
      ]
     },
     "execution_count": 35,
     "metadata": {},
     "output_type": "execute_result"
    }
   ],
   "source": [
    "## Convierte la lista talla a una tupla.\n",
    "\n",
    "talla = tuple(talla)\n",
    "type(talla)"
   ]
  },
  {
   "cell_type": "code",
   "execution_count": 36,
   "id": "4d33c4bf",
   "metadata": {},
   "outputs": [
    {
     "name": "stdout",
     "output_type": "stream",
     "text": [
      "(61, 1.54, 'pelo marrón', ('M', 42, 39))\n"
     ]
    },
    {
     "data": {
      "text/plain": [
       "tuple"
      ]
     },
     "execution_count": 36,
     "metadata": {},
     "output_type": "execute_result"
    }
   ],
   "source": [
    "# Une a la tupla de persona1 los datos en talla, para tener una única tupla.\n",
    "\n",
    "persona1 = list(persona1)\n",
    "persona1.append(talla)\n",
    "persona1 = tuple(persona1)\n",
    "print(persona1)\n",
    "type(persona1)\n"
   ]
  },
  {
   "cell_type": "markdown",
   "id": "8fdd03a7",
   "metadata": {},
   "source": [
    "## Indexar tuplas"
   ]
  },
  {
   "cell_type": "markdown",
   "id": "9f2c24f7",
   "metadata": {},
   "source": []
  },
  {
   "cell_type": "code",
   "execution_count": 37,
   "id": "993c0089",
   "metadata": {},
   "outputs": [
    {
     "name": "stdout",
     "output_type": "stream",
     "text": [
      "color\n"
     ]
    },
    {
     "data": {
      "text/plain": [
       "tuple"
      ]
     },
     "execution_count": 37,
     "metadata": {},
     "output_type": "execute_result"
    }
   ],
   "source": [
    "## Saca de persona2 el contenido del tercer elemento y llámalo color.\n",
    "\n",
    "persona2 = list(persona2)\n",
    "persona2[2] = \"color\"\n",
    "print(persona2[2])\n",
    "persona2 = tuple(persona2)\n",
    "type(persona2)"
   ]
  },
  {
   "cell_type": "code",
   "execution_count": 38,
   "id": "df963f29",
   "metadata": {},
   "outputs": [
    {
     "name": "stdout",
     "output_type": "stream",
     "text": [
      "Tras haber añadido la lista Talla en la tupla persona1, la cantidad de elementos totales es de 4\n"
     ]
    }
   ],
   "source": [
    "## ¿Cuántos elementos hay ahora en persona1? (Es decir, ¿cuál es su longitud?)\n",
    "\n",
    "print(\"Tras haber añadido la lista Talla en la tupla persona1, la cantidad de elementos totales es de\", len(persona1))"
   ]
  },
  {
   "cell_type": "markdown",
   "id": "7c84c5cb",
   "metadata": {},
   "source": [
    "## Desempaquetar"
   ]
  },
  {
   "cell_type": "code",
   "execution_count": 39,
   "id": "52cb628b",
   "metadata": {},
   "outputs": [
    {
     "name": "stdout",
     "output_type": "stream",
     "text": [
      "marrón\n"
     ]
    }
   ],
   "source": [
    "# Crea las variables peso, altura, color_pelo y llénalas con el contenido de persona1. Imprime color_pelo para comprobar el resultado.\n",
    "\n",
    "peso = \"61 kg\"\n",
    "altura = \"1.54 m\"\n",
    "color_pelo = \"marrón\"\n",
    "print(color_pelo)"
   ]
  },
  {
   "cell_type": "markdown",
   "id": "95b981a5",
   "metadata": {},
   "source": [
    "## Zipear"
   ]
  },
  {
   "cell_type": "code",
   "execution_count": 40,
   "id": "f679c6f6",
   "metadata": {},
   "outputs": [
    {
     "name": "stdout",
     "output_type": "stream",
     "text": [
      "el resultado zip de estas listas es: <zip object at 0x0000024FD5882E00>\n",
      "el resultado zip de estas listas es: [(61, 68), (1.54, 1.65), ('pelo marrón', 'color')]\n"
     ]
    }
   ],
   "source": [
    "# Crea el zip personas con persona1 y persona2.\n",
    "\n",
    "personas = zip(persona1, persona2)\n",
    "print(\"el resultado zip de estas listas es:\", personas)\n",
    "print(\"el resultado zip de estas listas es:\", list(personas))\n",
    "\n",
    "#para que sea legible, siempre ha de convertise a lista."
   ]
  },
  {
   "cell_type": "code",
   "execution_count": 41,
   "id": "7cbc470c",
   "metadata": {},
   "outputs": [
    {
     "data": {
      "text/plain": [
       "0"
      ]
     },
     "execution_count": 41,
     "metadata": {},
     "output_type": "execute_result"
    }
   ],
   "source": [
    "# ¿Cuántas \"elementos\" tiene personas? ¿Por qué?\n",
    "\n",
    "len(list(personas))\n",
    "\n",
    "#porque el zip es de un solo uso y ya se ha usado anteriormente."
   ]
  },
  {
   "cell_type": "code",
   "execution_count": 42,
   "id": "ec6c98aa",
   "metadata": {},
   "outputs": [
    {
     "data": {
      "text/plain": [
       "tuple"
      ]
     },
     "execution_count": 42,
     "metadata": {},
     "output_type": "execute_result"
    }
   ],
   "source": [
    "# Crea una tupla etiquetas con 'peso', 'altura', y 'color_pelo'.\n",
    "\n",
    "etiquetas = peso, altura, color_pelo\n",
    "type(etiquetas)"
   ]
  },
  {
   "cell_type": "code",
   "execution_count": 43,
   "id": "b5abf556",
   "metadata": {},
   "outputs": [
    {
     "name": "stdout",
     "output_type": "stream",
     "text": [
      "[('61 kg', 61, 68), ('1.54 m', 1.54, 1.65), ('marrón', 'pelo marrón', 'color')]\n"
     ]
    }
   ],
   "source": [
    "# Crea al zip de etiquetas, persona1, y persona2, llamado \"todo\".\n",
    "\n",
    "todo = zip(etiquetas, persona1, persona2)\n",
    "print(list(todo))"
   ]
  },
  {
   "cell_type": "markdown",
   "id": "784c98f9",
   "metadata": {},
   "source": [
    "## Manipular zips"
   ]
  },
  {
   "cell_type": "code",
   "execution_count": 44,
   "id": "ff801569",
   "metadata": {},
   "outputs": [
    {
     "ename": "TypeError",
     "evalue": "'<' not supported between instances of 'str' and 'float'",
     "output_type": "error",
     "traceback": [
      "\u001b[1;31m---------------------------------------------------------------------------\u001b[0m",
      "\u001b[1;31mTypeError\u001b[0m                                 Traceback (most recent call last)",
      "Cell \u001b[1;32mIn[44], line 4\u001b[0m\n\u001b[0;32m      1\u001b[0m \u001b[38;5;66;03m# Ordena las propiedades de la variable personas alfabéticamente. ¿Puedes? ¿Por qué?\u001b[39;00m\n\u001b[0;32m      3\u001b[0m personas \u001b[38;5;241m=\u001b[39m \u001b[38;5;28mlist\u001b[39m(\u001b[38;5;28mzip\u001b[39m(persona1, persona2))\n\u001b[1;32m----> 4\u001b[0m personas\u001b[38;5;241m.\u001b[39msort()\n",
      "\u001b[1;31mTypeError\u001b[0m: '<' not supported between instances of 'str' and 'float'"
     ]
    }
   ],
   "source": [
    "# Ordena las propiedades de la variable personas alfabéticamente. ¿Puedes? ¿Por qué?\n",
    "\n",
    "personas = list(zip(persona1, persona2))\n",
    "personas.sort()\n",
    "\n",
    "# da error ya que no se pueden ordenar elementos de distinto tipo (str, float)\n"
   ]
  }
 ],
 "metadata": {
  "kernelspec": {
   "display_name": "base",
   "language": "python",
   "name": "python3"
  },
  "language_info": {
   "codemirror_mode": {
    "name": "ipython",
    "version": 3
   },
   "file_extension": ".py",
   "mimetype": "text/x-python",
   "name": "python",
   "nbconvert_exporter": "python",
   "pygments_lexer": "ipython3",
   "version": "3.12.7"
  }
 },
 "nbformat": 4,
 "nbformat_minor": 5
}
