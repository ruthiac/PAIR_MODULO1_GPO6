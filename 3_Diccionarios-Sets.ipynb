{
 "cells": [
  {
   "cell_type": "markdown",
   "id": "deaa35c7",
   "metadata": {},
   "source": [
    "BIBILIOTECAS Y SETS"
   ]
  },
  {
   "cell_type": "code",
   "execution_count": null,
   "id": "31ba73d4",
   "metadata": {},
   "outputs": [],
   "source": []
  }
 ],
 "metadata": {
  "kernelspec": {
   "display_name": "base",
   "language": "python",
   "name": "python3"
  },
  "language_info": {
   "name": "python",
   "version": "3.13.5"
  }
 },
 "nbformat": 4,
 "nbformat_minor": 5
}
