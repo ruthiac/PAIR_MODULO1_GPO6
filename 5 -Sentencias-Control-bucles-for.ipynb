{
 "cells": [
  {
   "cell_type": "markdown",
   "id": "02bf5a8a",
   "metadata": {},
   "source": [
    "# Sentencias de control (bucles for)"
   ]
  },
  {
   "cell_type": "markdown",
   "id": "4e0da9dc",
   "metadata": {},
   "source": [
    "1- Usando la siguiente lista:\n",
    "temperaturas = [2,45,67,23, 45,66,12,1,34,67,99,98,67,64, 44, 100]\n",
    "\n",
    "Crea tres listas nuevas, donde:\n",
    "\n",
    "    En la primera tengamos temperaturas entre 0 - 10, llama a la nueva lista bajas_temp.\n",
    "\n",
    "    En la segunda tengamos temperaturas entre 11- 20, llama a la nueva lista medias_temp.\n",
    "\n",
    "    En la tercera tengamos temperaturas por encima de 20, llama a la nueva lista altas_temp"
   ]
  },
  {
   "cell_type": "code",
   "execution_count": 1,
   "id": "9d4544a0",
   "metadata": {},
   "outputs": [
    {
     "name": "stdout",
     "output_type": "stream",
     "text": [
      "Las temperaturas [2, 1] son bajas\n",
      "Las temperaturas [12] son medias\n",
      "Las temperaturas [45, 67, 23, 45, 66, 34, 67, 99, 98, 67, 64, 44, 100] son altas\n"
     ]
    }
   ],
   "source": [
    "temperaturas = [2,45,67,23, 45,66,12,1,34,67,99,98,67,64, 44, 100]\n",
    "bajas_temp = []\n",
    "medias_temp = []\n",
    "altas_temp = []\n",
    "\n",
    "for temp in temperaturas:\n",
    "    if temp < 10:\n",
    "        bajas_temp.append(temp)\n",
    "    elif 11 < temp < 20:\n",
    "        medias_temp.append(temp)\n",
    "    else:\n",
    "        altas_temp.append(temp)\n",
    "\n",
    "print(f\"Las temperaturas {bajas_temp} son bajas\")\n",
    "print(f\"Las temperaturas {medias_temp} son medias\")\n",
    "print(f\"Las temperaturas {altas_temp} son altas\")\n"
   ]
  },
  {
   "cell_type": "code",
   "execution_count": 2,
   "id": "8784aedb",
   "metadata": {},
   "outputs": [
    {
     "name": "stdout",
     "output_type": "stream",
     "text": [
      "[2, 1]\n"
     ]
    }
   ],
   "source": [
    "print(bajas_temp)"
   ]
  },
  {
   "cell_type": "markdown",
   "id": "18de14ab",
   "metadata": {},
   "source": [
    "2- Las temperaturas están grados centígrados. Para cada una de las listas creadas en el ejercicio anterior, convertid las temperaturas a grados fahrenheit\n",
    "\n",
    "La relacion de grados celsius y fahrenheit es:\n",
    "(0 °C × 9 / 5) + 32 = 32 °F\n",
    "F = (C * 9 / 5) + 32 [3, 4]"
   ]
  },
  {
   "cell_type": "code",
   "execution_count": 3,
   "id": "a58191ff",
   "metadata": {},
   "outputs": [
    {
     "name": "stdout",
     "output_type": "stream",
     "text": [
      "[35.6, 33.8]\n",
      "[53.6]\n",
      "[113.0, 152.6, 73.4, 113.0, 150.8, 93.2, 152.6, 210.2, 208.4, 152.6, 147.2, 111.2, 212.0]\n"
     ]
    }
   ],
   "source": [
    "bajas_temp_farenheit = []\n",
    "medias_temp_farenheit = []\n",
    "altas_temp_farenheit = []\n",
    "\n",
    "for celsius in bajas_temp:\n",
    "    bajas_temp_farenheit.append((celsius * 9 / 5) + 32)\n",
    "\n",
    "for celsius in medias_temp:\n",
    "    medias_temp_farenheit.append((celsius * 9 / 5) + 32)\n",
    "\n",
    "for celsius in altas_temp:\n",
    "    altas_temp_farenheit.append((celsius * 9 / 5) + 32)\n",
    "\n",
    "print(bajas_temp_farenheit)\n",
    "print(medias_temp_farenheit)\n",
    "print(altas_temp_farenheit)"
   ]
  },
  {
   "cell_type": "markdown",
   "id": "bf47357a",
   "metadata": {},
   "source": [
    "3- Define e imprime un rango de 0 a 6 (excluido)."
   ]
  },
  {
   "cell_type": "code",
   "execution_count": 4,
   "id": "bb869680",
   "metadata": {},
   "outputs": [
    {
     "name": "stdout",
     "output_type": "stream",
     "text": [
      "0\n",
      "1\n",
      "2\n",
      "3\n",
      "4\n",
      "5\n"
     ]
    }
   ],
   "source": [
    "for i in range(0,6):\n",
    "    print(i)"
   ]
  },
  {
   "cell_type": "markdown",
   "id": "ec0774a2",
   "metadata": {},
   "source": [
    "4- Define e imprime un rango de 3 a 6 ambos incluidos."
   ]
  },
  {
   "cell_type": "code",
   "execution_count": 5,
   "id": "9b2dfa58",
   "metadata": {},
   "outputs": [
    {
     "name": "stdout",
     "output_type": "stream",
     "text": [
      "3\n",
      "4\n",
      "5\n",
      "6\n"
     ]
    }
   ],
   "source": [
    "for i in range(3,7):\n",
    "    print(i)"
   ]
  },
  {
   "cell_type": "markdown",
   "id": "3aafc356",
   "metadata": {},
   "source": [
    "5- Define e imprime un rango de 5 a 9 ambos excluidos."
   ]
  },
  {
   "cell_type": "code",
   "execution_count": 6,
   "id": "fd7cbbfc",
   "metadata": {},
   "outputs": [
    {
     "name": "stdout",
     "output_type": "stream",
     "text": [
      "6\n",
      "7\n",
      "8\n"
     ]
    }
   ],
   "source": [
    "for i in range(6,9):\n",
    "    print(i)"
   ]
  },
  {
   "cell_type": "markdown",
   "id": "1723208c",
   "metadata": {},
   "source": [
    "6- Define e imprime un rango de 3 números que empiece en 2."
   ]
  },
  {
   "cell_type": "code",
   "execution_count": 7,
   "id": "b250938d",
   "metadata": {},
   "outputs": [
    {
     "name": "stdout",
     "output_type": "stream",
     "text": [
      "2\n",
      "3\n",
      "4\n"
     ]
    }
   ],
   "source": [
    "for i in range(2,5):\n",
    "    print(i)"
   ]
  },
  {
   "cell_type": "markdown",
   "id": "0dd45ad0",
   "metadata": {},
   "source": [
    "7- Define e imprime un rango que empiece en 2, aumentando cada paso por 3, que pare antes de llegar al número 13."
   ]
  },
  {
   "cell_type": "code",
   "execution_count": 8,
   "id": "bcd1ef9c",
   "metadata": {},
   "outputs": [
    {
     "name": "stdout",
     "output_type": "stream",
     "text": [
      "2\n",
      "5\n",
      "8\n",
      "11\n"
     ]
    }
   ],
   "source": [
    "for i in range(2,14,3):\n",
    "    print(i)"
   ]
  },
  {
   "cell_type": "markdown",
   "id": "249309f6",
   "metadata": {},
   "source": [
    "8- Define e imprime un rango con todos los valores impares que hay hasta 10."
   ]
  },
  {
   "cell_type": "code",
   "execution_count": 9,
   "id": "51a4aa92",
   "metadata": {},
   "outputs": [
    {
     "name": "stdout",
     "output_type": "stream",
     "text": [
      "1\n",
      "3\n",
      "5\n",
      "7\n",
      "9\n"
     ]
    }
   ],
   "source": [
    "for i in range(1, 11, 2):\n",
    "    print(i)"
   ]
  },
  {
   "cell_type": "markdown",
   "id": "855d095a",
   "metadata": {},
   "source": [
    "9- Crea una lista nueva donde tengamos los números de la lista temperaturas elevados al cuadrado."
   ]
  },
  {
   "cell_type": "code",
   "execution_count": 10,
   "id": "05249dbc",
   "metadata": {},
   "outputs": [
    {
     "data": {
      "text/plain": [
       "[4,\n",
       " 2025,\n",
       " 4489,\n",
       " 529,\n",
       " 2025,\n",
       " 4356,\n",
       " 144,\n",
       " 1,\n",
       " 1156,\n",
       " 4489,\n",
       " 9801,\n",
       " 9604,\n",
       " 4489,\n",
       " 4096,\n",
       " 1936,\n",
       " 10000]"
      ]
     },
     "execution_count": 10,
     "metadata": {},
     "output_type": "execute_result"
    }
   ],
   "source": [
    "temperaturas = [2,45,67,23, 45,66,12,1,34,67,99,98,67,64, 44, 100]\n",
    "\n",
    "temp_cuadrado = [i**2 for i in temperaturas]\n",
    "temp_cuadrado"
   ]
  },
  {
   "cell_type": "markdown",
   "id": "f3f81591",
   "metadata": {},
   "source": [
    "10- Crea una lista nueva donde tengamos el resto de la división de cada uno de los números entre 2."
   ]
  },
  {
   "cell_type": "code",
   "execution_count": 11,
   "id": "a6d774cb",
   "metadata": {},
   "outputs": [
    {
     "data": {
      "text/plain": [
       "[0, 1, 1, 1, 1, 0, 0, 1, 0, 1, 1, 0, 1, 0, 0, 0]"
      ]
     },
     "execution_count": 11,
     "metadata": {},
     "output_type": "execute_result"
    }
   ],
   "source": [
    "temp_resto = [i%2 for i in temperaturas]\n",
    "temp_resto"
   ]
  },
  {
   "cell_type": "markdown",
   "id": "295c948a",
   "metadata": {},
   "source": [
    "11- Crea una lista nueva donde tengamos solo los elementos pares de la lista temperaturas."
   ]
  },
  {
   "cell_type": "code",
   "execution_count": 12,
   "id": "9466e2b7",
   "metadata": {},
   "outputs": [
    {
     "data": {
      "text/plain": [
       "[2, 66, 12, 34, 98, 64, 44, 100]"
      ]
     },
     "execution_count": 12,
     "metadata": {},
     "output_type": "execute_result"
    }
   ],
   "source": [
    "temp_pares = [i for i in temperaturas if i % 2 == 0]\n",
    "\n",
    "temp_pares"
   ]
  },
  {
   "cell_type": "markdown",
   "id": "93b2892d",
   "metadata": {},
   "source": [
    "12- Crea una lista nueva donde tengamos solo los elementos que sean menores que 50."
   ]
  },
  {
   "cell_type": "code",
   "execution_count": 13,
   "id": "875c10e6",
   "metadata": {},
   "outputs": [
    {
     "data": {
      "text/plain": [
       "[2, 45, 23, 45, 12, 1, 34, 44]"
      ]
     },
     "execution_count": 13,
     "metadata": {},
     "output_type": "execute_result"
    }
   ],
   "source": [
    "#lista contiene elemento por cada elemento en temperaturas donde elemento es menor o igual que 50\n",
    "\n",
    "temp_menores = [i for i in temperaturas if i <= 50]\n",
    "temp_menores"
   ]
  },
  {
   "cell_type": "markdown",
   "id": "747343a9",
   "metadata": {},
   "source": [
    "13- Crea una lista donde tengamos los valores \"par\" e \"impar\" en función de los valores de la lista original. La lista resultante tiene que ser como la que indicamos a continuación:\n",
    "\n",
    "lista_strings = [\"par\",\"impar\",\"impar\",\"impar\", \"impar\",\"par\",\"par\",\"impar\",\"par\",\"impar\",\"impar\",\"par\",\"impar\",\"par\", \"par\", \"par\"]"
   ]
  },
  {
   "cell_type": "code",
   "execution_count": 14,
   "id": "be45f307",
   "metadata": {},
   "outputs": [
    {
     "data": {
      "text/plain": [
       "['par',\n",
       " 'impar',\n",
       " 'impar',\n",
       " 'impar',\n",
       " 'impar',\n",
       " 'par',\n",
       " 'par',\n",
       " 'impar',\n",
       " 'par',\n",
       " 'impar',\n",
       " 'impar',\n",
       " 'par',\n",
       " 'impar',\n",
       " 'par',\n",
       " 'par',\n",
       " 'par']"
      ]
     },
     "execution_count": 14,
     "metadata": {},
     "output_type": "execute_result"
    }
   ],
   "source": [
    "#par si el resto es igual a 0; sino impar (por cada elemento en temperaturas)\n",
    " \n",
    "temp_strings = [\"par\" if i % 2 == 0 else \"impar\" for i in temperaturas]\n",
    "temp_strings"
   ]
  },
  {
   "cell_type": "markdown",
   "id": "7bb0667e",
   "metadata": {},
   "source": [
    "14- Pide al usuario un número entero positivo y suma los números pares e impares por separado hasta ese número."
   ]
  },
  {
   "cell_type": "code",
   "execution_count": 37,
   "id": "2674fe3f",
   "metadata": {},
   "outputs": [
    {
     "name": "stdout",
     "output_type": "stream",
     "text": [
      "Suma de números pares: 6\n",
      "Suma de números impares: 9\n"
     ]
    }
   ],
   "source": [
    "# Se asigna primero el valor a numero, que incluye el input. Por cada elemento en el rango 0 a numero +1 (el número que usuario introduce nunca estará en el rango por los indices de lista, \n",
    "# así que se le suma uno). \n",
    "\n",
    "numero=int(input(\"Por favor, ingresa un número entero positivo\"))\n",
    "suma_pares = 0\n",
    "suma_impares = 0\n",
    "\n",
    "for i in range(0, numero +1):\n",
    "    #print(f\"Numero - {i}\") \n",
    "    if i % 2 == 0:\n",
    "        suma_pares = suma_pares + i\n",
    "    else:\n",
    "        suma_impares = suma_impares + i\n",
    "\n",
    "\n",
    "print(f\"Suma de números pares: {suma_pares}\")\n",
    "print(f\"Suma de números impares: {suma_impares}\")"
   ]
  },
  {
   "cell_type": "markdown",
   "id": "e256fb84",
   "metadata": {},
   "source": [
    "15- Pide al usuario ingresar una cadena y cuenta cuántas veces aparece cada vocal (a, e, i, o, u) en la cadena."
   ]
  },
  {
   "cell_type": "code",
   "execution_count": null,
   "id": "863d5f06",
   "metadata": {},
   "outputs": [
    {
     "name": "stdout",
     "output_type": "stream",
     "text": [
      "La letra a aparece 1 veces\n",
      "La letra e aparece 0 veces\n",
      "La letra i aparece 0 veces\n",
      "La letra o aparece 1 veces\n",
      "La letra u aparece 0 veces\n"
     ]
    },
    {
     "data": {
      "text/plain": [
       "{'a': 1, 'e': 0, 'i': 0, 'o': 1, 'u': 0}"
      ]
     },
     "execution_count": 55,
     "metadata": {},
     "output_type": "execute_result"
    }
   ],
   "source": [
    "#Con letra sacas la key y con value sacas el valor. \n",
    "#vocales[letra] = frase.count(letra) ===> La letra(aeiou) en variable vocales es igual al conteo de letras en frase/input\n",
    "\n",
    "frase = input(\"Que frase quieres\")\n",
    "vocales = {\"a\": 0, \"e\": 0, \"i\": 0, \"o\":0, \"u\": 0}\n",
    "\n",
    "for letra in vocales:\n",
    "    vocales[letra] = frase.count(letra)\n",
    "    print(f\"La letra {letra} aparece {vocales[letra]} veces\")\n",
    "\n",
    "vocales"
   ]
  },
  {
   "cell_type": "markdown",
   "id": "dceb0944",
   "metadata": {},
   "source": [
    "## Ejercicios"
   ]
  },
  {
   "cell_type": "markdown",
   "id": "945053da",
   "metadata": {},
   "source": [
    "1- Crea una variable que sea igual a \"Python\" y genera un código que nos printee todas las letras menos la \"P\" usando la sentencia continue."
   ]
  },
  {
   "cell_type": "markdown",
   "id": "ae54f0e1",
   "metadata": {},
   "source": [
    "2- De la frase 'Hello' imprime todas las letras que no sean una 'l' usando if."
   ]
  },
  {
   "cell_type": "markdown",
   "id": "20174668",
   "metadata": {},
   "source": [
    "3- Haz lo mismo que en 2 usando continue."
   ]
  },
  {
   "cell_type": "markdown",
   "id": "91a5d6f3",
   "metadata": {},
   "source": [
    "4- De la frase 'Hello' imprime todas las letras parando el bucle si encuentras una 'o'."
   ]
  },
  {
   "cell_type": "markdown",
   "id": "e893a83d",
   "metadata": {},
   "source": [
    "5- Define la variable doce = '12' y seis = 6. Intenta sumarlos. En el caso de que te salga un error imprime '¡Un error!'. Para eso usa un try ... except"
   ]
  },
  {
   "cell_type": "markdown",
   "id": "36f2a6b3",
   "metadata": {},
   "source": [
    "6- Basándonos en el ejercicio anterior, sin usar un try ... except, ¿cómo podríamos solucionar el problema?"
   ]
  },
  {
   "cell_type": "markdown",
   "id": "293e5700",
   "metadata": {},
   "source": [
    "7- Solicita al usuario ingresar números enteros positivos hasta que ingrese un número negativo. Luego, muestra la suma de todos los números pares ingresados."
   ]
  },
  {
   "cell_type": "markdown",
   "id": "a5188447",
   "metadata": {},
   "source": [
    "8- Solicita al usuario ingresar dos números y muestra el resultado de dividir el primero por el segundo. Asegúrate de manejar la excepción si el segundo número es cero."
   ]
  },
  {
   "cell_type": "markdown",
   "id": "43bb73f5",
   "metadata": {},
   "source": [
    "9- Solicita al usuario ingresar un número y muestra su raíz cuadrada. Maneja la excepción si el número es negativo."
   ]
  },
  {
   "cell_type": "markdown",
   "id": "5cd34e77",
   "metadata": {},
   "source": [
    "10- Crea una lista de números y solicita al usuario ingresar un índice para acceder a un elemento de la lista. Maneja la excepción si el índice está fuera de rango."
   ]
  },
  {
   "cell_type": "markdown",
   "id": "3a8be1de",
   "metadata": {},
   "source": []
  }
 ],
 "metadata": {
  "kernelspec": {
   "display_name": "base",
   "language": "python",
   "name": "python3"
  },
  "language_info": {
   "codemirror_mode": {
    "name": "ipython",
    "version": 3
   },
   "file_extension": ".py",
   "mimetype": "text/x-python",
   "name": "python",
   "nbconvert_exporter": "python",
   "pygments_lexer": "ipython3",
   "version": "3.12.7"
  }
 },
 "nbformat": 4,
 "nbformat_minor": 5
}
