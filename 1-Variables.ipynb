{
 "cells": [
  {
   "cell_type": "markdown",
   "id": "7140effa",
   "metadata": {},
   "source": [
    "# Variables"
   ]
  },
  {
   "cell_type": "markdown",
   "id": "a5c01b40",
   "metadata": {},
   "source": [
    "Crea la variable gatos que sea un número con el valor 8."
   ]
  },
  {
   "cell_type": "code",
   "execution_count": 15,
   "id": "b1a65a1f",
   "metadata": {},
   "outputs": [],
   "source": [
    "gatos = 8\n"
   ]
  },
  {
   "cell_type": "markdown",
   "id": "e9d76b2b",
   "metadata": {},
   "source": [
    "Crea la variable perros que sea un texto de seis caracteres: la palabra cuatro."
   ]
  },
  {
   "cell_type": "code",
   "execution_count": 16,
   "id": "cfb9ff5f",
   "metadata": {},
   "outputs": [],
   "source": [
    "perros = \"cuatro\""
   ]
  },
  {
   "cell_type": "markdown",
   "id": "1c6c0a8d",
   "metadata": {},
   "source": [
    "Imprime la variable gatos."
   ]
  },
  {
   "cell_type": "code",
   "execution_count": 17,
   "id": "baa8dcea",
   "metadata": {},
   "outputs": [
    {
     "name": "stdout",
     "output_type": "stream",
     "text": [
      "8\n"
     ]
    }
   ],
   "source": [
    "print (gatos)"
   ]
  },
  {
   "cell_type": "markdown",
   "id": "311c430b",
   "metadata": {},
   "source": [
    "Imprime la variable perros."
   ]
  },
  {
   "cell_type": "code",
   "execution_count": 18,
   "id": "9e9d904f",
   "metadata": {},
   "outputs": [
    {
     "name": "stdout",
     "output_type": "stream",
     "text": [
      "cuatro\n"
     ]
    }
   ],
   "source": [
    "print (perros)"
   ]
  },
  {
   "cell_type": "markdown",
   "id": "39d19547",
   "metadata": {},
   "source": [
    "Imprime la variable perros seguida por la palabra más y la palabra perros otra vez."
   ]
  },
  {
   "cell_type": "code",
   "execution_count": 19,
   "id": "96a8cebf",
   "metadata": {},
   "outputs": [
    {
     "name": "stdout",
     "output_type": "stream",
     "text": [
      "cuatro más perros\n"
     ]
    }
   ],
   "source": [
    "print (perros + \" más \" + \"perros\")"
   ]
  },
  {
   "cell_type": "markdown",
   "id": "e7ba1998",
   "metadata": {},
   "source": [
    "Consigue que el ordenador devuelva el siguiente texto, usando la variable perros: cuatro más cuatro es igual a 8."
   ]
  },
  {
   "cell_type": "code",
   "execution_count": 20,
   "id": "064c8ad2",
   "metadata": {},
   "outputs": [
    {
     "name": "stdout",
     "output_type": "stream",
     "text": [
      "cuatro más cuatro es igual a 8\n"
     ]
    }
   ],
   "source": [
    "print (perros + \" más \" + perros + \" es igual a 8\")"
   ]
  },
  {
   "cell_type": "markdown",
   "id": "de29c8b2",
   "metadata": {},
   "source": [
    "Consigue que el ordenador devuelva el siguiente texto, usando la variableperros: cuatro + cuatro = 8."
   ]
  },
  {
   "cell_type": "code",
   "execution_count": 21,
   "id": "6dab7714",
   "metadata": {},
   "outputs": [
    {
     "name": "stdout",
     "output_type": "stream",
     "text": [
      "cuatro + cuatro=8\n"
     ]
    }
   ],
   "source": [
    "print(perros + \" + \" + perros + \"=\" + str(gatos))"
   ]
  },
  {
   "cell_type": "code",
   "execution_count": 22,
   "id": "df7c4bba",
   "metadata": {},
   "outputs": [
    {
     "name": "stdout",
     "output_type": "stream",
     "text": [
      "cuatro\n"
     ]
    }
   ],
   "source": [
    "perros = \"cuatro\"\n",
    "cuatro = int(4)\n",
    "print (perros)"
   ]
  },
  {
   "cell_type": "markdown",
   "id": "d530e299",
   "metadata": {},
   "source": [
    "Define una variable pizzas con un valor 2 que sea del tipo float."
   ]
  },
  {
   "cell_type": "code",
   "execution_count": 23,
   "id": "3c220b31",
   "metadata": {},
   "outputs": [],
   "source": [
    "pizzas = float(2)"
   ]
  },
  {
   "cell_type": "markdown",
   "id": "0be7e28e",
   "metadata": {},
   "source": [
    "Define magdalenas con un valor 2 que sea del tipo string."
   ]
  },
  {
   "cell_type": "code",
   "execution_count": 24,
   "id": "7d4b33b7",
   "metadata": {},
   "outputs": [],
   "source": [
    "magdalenas = \"2\""
   ]
  },
  {
   "cell_type": "markdown",
   "id": "8b3bfa7f",
   "metadata": {},
   "source": [
    "Define postres con un valor 0 que sea del tipo int."
   ]
  },
  {
   "cell_type": "code",
   "execution_count": 25,
   "id": "c8c605be",
   "metadata": {},
   "outputs": [],
   "source": [
    "postres = int(0)"
   ]
  },
  {
   "cell_type": "markdown",
   "id": "22e83130",
   "metadata": {},
   "source": [
    "¿Qué tipo de dato es la variable pizzas?"
   ]
  },
  {
   "cell_type": "code",
   "execution_count": 26,
   "id": "91ecab4d",
   "metadata": {},
   "outputs": [
    {
     "name": "stdout",
     "output_type": "stream",
     "text": [
      "<class 'float'>\n"
     ]
    },
    {
     "data": {
      "text/plain": [
       "float"
      ]
     },
     "execution_count": 26,
     "metadata": {},
     "output_type": "execute_result"
    }
   ],
   "source": [
    "print(type(pizzas))\n",
    "type(pizzas)"
   ]
  },
  {
   "cell_type": "markdown",
   "id": "da8bf33e",
   "metadata": {},
   "source": [
    "¿Es la variable magdalenas de tipo string?"
   ]
  },
  {
   "cell_type": "code",
   "execution_count": 27,
   "id": "962ee8d8",
   "metadata": {},
   "outputs": [
    {
     "data": {
      "text/plain": [
       "True"
      ]
     },
     "execution_count": 27,
     "metadata": {},
     "output_type": "execute_result"
    }
   ],
   "source": [
    "isinstance(magdalenas,str)"
   ]
  },
  {
   "cell_type": "markdown",
   "id": "cbf8fc85",
   "metadata": {},
   "source": [
    "Define postres con un valor 0."
   ]
  },
  {
   "cell_type": "code",
   "execution_count": 28,
   "id": "ef477e12",
   "metadata": {},
   "outputs": [],
   "source": [
    "postres = 0"
   ]
  },
  {
   "cell_type": "markdown",
   "id": "433b65ea",
   "metadata": {},
   "source": [
    "Calcula la suma de gatos y pizzas."
   ]
  },
  {
   "cell_type": "code",
   "execution_count": 29,
   "id": "386bdbfa",
   "metadata": {},
   "outputs": [
    {
     "data": {
      "text/plain": [
       "10.0"
      ]
     },
     "execution_count": 29,
     "metadata": {},
     "output_type": "execute_result"
    }
   ],
   "source": [
    "gatos + pizzas"
   ]
  },
  {
   "cell_type": "markdown",
   "id": "28a70ba4",
   "metadata": {},
   "source": [
    "Calcula la diferencia entre gatos y pizzas."
   ]
  },
  {
   "cell_type": "code",
   "execution_count": 30,
   "id": "65621319",
   "metadata": {},
   "outputs": [
    {
     "data": {
      "text/plain": [
       "6.0"
      ]
     },
     "execution_count": 30,
     "metadata": {},
     "output_type": "execute_result"
    }
   ],
   "source": [
    "gatos - pizzas"
   ]
  },
  {
   "cell_type": "markdown",
   "id": "ef50eaad",
   "metadata": {},
   "source": [
    "Multiplica las cantidad de gatos por 2."
   ]
  },
  {
   "cell_type": "code",
   "execution_count": 31,
   "id": "1c7eb471",
   "metadata": {},
   "outputs": [
    {
     "data": {
      "text/plain": [
       "16"
      ]
     },
     "execution_count": 31,
     "metadata": {},
     "output_type": "execute_result"
    }
   ],
   "source": [
    "gatos * 2"
   ]
  },
  {
   "cell_type": "markdown",
   "id": "4316e98b",
   "metadata": {},
   "source": [
    "Crea una variable piezas que sea 8 veces la cantidad de pizzas."
   ]
  },
  {
   "cell_type": "code",
   "execution_count": 32,
   "id": "17ab30e5",
   "metadata": {},
   "outputs": [
    {
     "data": {
      "text/plain": [
       "16.0"
      ]
     },
     "execution_count": 32,
     "metadata": {},
     "output_type": "execute_result"
    }
   ],
   "source": [
    "piezas = 8 * pizzas\n",
    "piezas"
   ]
  },
  {
   "cell_type": "markdown",
   "id": "7ff6d750",
   "metadata": {},
   "source": [
    "Haz que la cantidad de piezas se aumente en 3."
   ]
  },
  {
   "cell_type": "code",
   "execution_count": 33,
   "id": "7d5312f6",
   "metadata": {},
   "outputs": [
    {
     "data": {
      "text/plain": [
       "19.0"
      ]
     },
     "execution_count": 33,
     "metadata": {},
     "output_type": "execute_result"
    }
   ],
   "source": [
    "piezas = piezas + 3\n",
    "# piezas += 3\n",
    "piezas"
   ]
  },
  {
   "cell_type": "markdown",
   "id": "79bac85a",
   "metadata": {},
   "source": [
    "Calcula el cuadrado de 9 y guárdalo en una variable llamada superficie."
   ]
  },
  {
   "cell_type": "code",
   "execution_count": 34,
   "id": "14e39b74",
   "metadata": {},
   "outputs": [
    {
     "data": {
      "text/plain": [
       "81"
      ]
     },
     "execution_count": 34,
     "metadata": {},
     "output_type": "execute_result"
    }
   ],
   "source": [
    "superficie = 9**2\n",
    "superficie"
   ]
  },
  {
   "cell_type": "markdown",
   "id": "02639f5b",
   "metadata": {},
   "source": [
    "¿Cuánta superficie hay por gato?"
   ]
  },
  {
   "cell_type": "code",
   "execution_count": 35,
   "id": "80ed640e",
   "metadata": {},
   "outputs": [
    {
     "data": {
      "text/plain": [
       "10.125"
      ]
     },
     "execution_count": 35,
     "metadata": {},
     "output_type": "execute_result"
    }
   ],
   "source": [
    "superficie_por_gato = superficie / gatos\n",
    "superficie_por_gato\n"
   ]
  },
  {
   "cell_type": "markdown",
   "id": "dab96da1",
   "metadata": {},
   "source": [
    "¿Cuántas piezas enteras hay por gato?"
   ]
  },
  {
   "cell_type": "code",
   "execution_count": 36,
   "id": "f333648c",
   "metadata": {},
   "outputs": [
    {
     "data": {
      "text/plain": [
       "2.0"
      ]
     },
     "execution_count": 36,
     "metadata": {},
     "output_type": "execute_result"
    }
   ],
   "source": [
    "piezas // gatos"
   ]
  },
  {
   "cell_type": "markdown",
   "id": "0e66fb68",
   "metadata": {},
   "source": [
    "¿Cuántas piezas te quedan si cada gato se come 21 piezas?"
   ]
  },
  {
   "cell_type": "code",
   "execution_count": 37,
   "id": "fbca3ef0",
   "metadata": {},
   "outputs": [
    {
     "data": {
      "text/plain": [
       "19.0"
      ]
     },
     "execution_count": 37,
     "metadata": {},
     "output_type": "execute_result"
    }
   ],
   "source": [
    "piezas_comidas = gatos * 21\n",
    "piezas_restantes = piezas % piezas_comidas\n",
    "piezas_restantes\n"
   ]
  },
  {
   "cell_type": "markdown",
   "id": "2f65e007",
   "metadata": {},
   "source": [
    "¿Cuánta superficie hay por gato en metros cuadrados? Redondeala a un sólo decimal. Intenta calcularlo dentro del mismo print() en una sola línea."
   ]
  },
  {
   "cell_type": "code",
   "execution_count": null,
   "id": "a663d86c",
   "metadata": {},
   "outputs": [],
   "source": [
    "print(round(superficie / gatos, 1))\n",
    "\n",
    "#round es una función para redondear un resultado numérico"
   ]
  },
  {
   "cell_type": "markdown",
   "id": "2d11b2ce",
   "metadata": {},
   "source": [
    "¿Es verdad que hay más gatos que pizzas?"
   ]
  },
  {
   "cell_type": "code",
   "execution_count": 38,
   "id": "b0fc71d2",
   "metadata": {},
   "outputs": [
    {
     "data": {
      "text/plain": [
       "True"
      ]
     },
     "execution_count": 38,
     "metadata": {},
     "output_type": "execute_result"
    }
   ],
   "source": [
    "gatos > pizzas"
   ]
  },
  {
   "cell_type": "markdown",
   "id": "c8bb6097",
   "metadata": {},
   "source": [
    "¿Es verdad que hay menos gatos que superficie?"
   ]
  },
  {
   "cell_type": "code",
   "execution_count": 39,
   "id": "c76a6536",
   "metadata": {},
   "outputs": [
    {
     "data": {
      "text/plain": [
       "True"
      ]
     },
     "execution_count": 39,
     "metadata": {},
     "output_type": "execute_result"
    }
   ],
   "source": [
    "gatos < superficie"
   ]
  },
  {
   "cell_type": "markdown",
   "id": "0f15ea1f",
   "metadata": {},
   "source": [
    "¿Es verdad que 2 veces la cantidad de pizzas es distinto de la cantidad de gatos?"
   ]
  },
  {
   "cell_type": "code",
   "execution_count": 40,
   "id": "a0dd4a3e",
   "metadata": {},
   "outputs": [
    {
     "data": {
      "text/plain": [
       "True"
      ]
     },
     "execution_count": 40,
     "metadata": {},
     "output_type": "execute_result"
    }
   ],
   "source": [
    "2 * pizzas != gatos"
   ]
  },
  {
   "cell_type": "markdown",
   "id": "3aad632b",
   "metadata": {},
   "source": [
    "¿Es falso que 2 veces la cantidad de pizzas es igual a la cantidad de gatos?"
   ]
  },
  {
   "cell_type": "code",
   "execution_count": null,
   "id": "c7e6b2fb",
   "metadata": {},
   "outputs": [
    {
     "data": {
      "text/plain": [
       "False"
      ]
     },
     "execution_count": 41,
     "metadata": {},
     "output_type": "execute_result"
    }
   ],
   "source": [
    "2 * pizzas == gatos\n",
    "# print (not (2 * pizzas == gatos))"
   ]
  },
  {
   "cell_type": "markdown",
   "id": "fce10838",
   "metadata": {},
   "source": [
    "La variable piezas, es mayor o igual a pizzas y superficie es distinto de cero?"
   ]
  },
  {
   "cell_type": "code",
   "execution_count": 48,
   "id": "7ec5a87f",
   "metadata": {},
   "outputs": [
    {
     "data": {
      "text/plain": [
       "True"
      ]
     },
     "execution_count": 48,
     "metadata": {},
     "output_type": "execute_result"
    }
   ],
   "source": [
    "piezas >= pizzas and superficie != 0\n",
    "\n",
    "# print(piezas >= pizzas and superficie != 0)"
   ]
  },
  {
   "cell_type": "markdown",
   "id": "7114bc0c",
   "metadata": {},
   "source": [
    "La variable piezas, es mayor o igual a pizzas y menor que superficie?"
   ]
  },
  {
   "cell_type": "code",
   "execution_count": null,
   "id": "24f472eb",
   "metadata": {},
   "outputs": [],
   "source": [
    "print(piezas >= pizzas and piezas < superficie)"
   ]
  },
  {
   "cell_type": "markdown",
   "id": "22926647",
   "metadata": {},
   "source": [
    "Me interesa saber si hay más pizzas que gatos, o si el residuo de piezas por gato es cero."
   ]
  },
  {
   "cell_type": "code",
   "execution_count": null,
   "id": "53d52cee",
   "metadata": {},
   "outputs": [],
   "source": [
    "print((pizzas > gatos) or (piezas % gatos == 0))"
   ]
  },
  {
   "cell_type": "markdown",
   "id": "a71f4dde",
   "metadata": {},
   "source": [
    "Comprueba las comparaciones de 29. en una sola línea, sin usar la variable piezas más que una sola vez."
   ]
  },
  {
   "cell_type": "code",
   "execution_count": null,
   "id": "71e82430",
   "metadata": {},
   "outputs": [],
   "source": [
    "print(pizzas<= piezas < superficie)"
   ]
  },
  {
   "cell_type": "markdown",
   "id": "4b5228bd",
   "metadata": {},
   "source": [
    "Comprueba si superficie es diferente a cero sin usar !=."
   ]
  },
  {
   "cell_type": "code",
   "execution_count": null,
   "id": "b412d4ca",
   "metadata": {},
   "outputs": [],
   "source": [
    "print(bool(superficie))"
   ]
  },
  {
   "cell_type": "markdown",
   "id": "4e42c1d6",
   "metadata": {},
   "source": [
    "Usa input() para preguntar a un usuario el día de su cumpleaños y guarda la respuesta en la variable dia_cumple."
   ]
  },
  {
   "cell_type": "code",
   "execution_count": 43,
   "id": "a7926162",
   "metadata": {},
   "outputs": [
    {
     "name": "stdout",
     "output_type": "stream",
     "text": [
      "4\n"
     ]
    }
   ],
   "source": [
    "Dia_cumple = input( \"¿Qué día es tu cumpleaños?\")\n",
    "print(Dia_cumple)"
   ]
  },
  {
   "cell_type": "markdown",
   "id": "0ba3adc2",
   "metadata": {},
   "source": [
    "Usa input() para preguntar a un usuario el mes de su cumpleaños y guarda la respuesta en la variable mes_cumple."
   ]
  },
  {
   "cell_type": "code",
   "execution_count": 44,
   "id": "9ba30285",
   "metadata": {},
   "outputs": [
    {
     "name": "stdout",
     "output_type": "stream",
     "text": [
      "6\n"
     ]
    }
   ],
   "source": [
    "Mes_cumple = input( \"¿Qué mes es tu cumpleaños?\")\n",
    "print(Mes_cumple)"
   ]
  },
  {
   "cell_type": "markdown",
   "id": "440d6d82",
   "metadata": {},
   "source": [
    "Usa .strip() en ambas de las variables definidas."
   ]
  },
  {
   "cell_type": "code",
   "execution_count": 45,
   "id": "ec19b761",
   "metadata": {},
   "outputs": [
    {
     "name": "stdout",
     "output_type": "stream",
     "text": [
      "4\n",
      "6\n"
     ]
    }
   ],
   "source": [
    "print(Dia_cumple.strip())\n",
    "print(Mes_cumple.strip())"
   ]
  },
  {
   "cell_type": "markdown",
   "id": "ab41a2e0",
   "metadata": {},
   "source": [
    "Haz que fecha_cumple sea un string compuesto por el día y el mes."
   ]
  },
  {
   "cell_type": "code",
   "execution_count": null,
   "id": "383f905b",
   "metadata": {},
   "outputs": [
    {
     "name": "stdout",
     "output_type": "stream",
     "text": [
      "4/6\n"
     ]
    }
   ],
   "source": [
    "fecha_cumple = Dia_cumple + \"/\" + Mes_cumple\n"
   ]
  },
  {
   "cell_type": "markdown",
   "id": "528a4d96",
   "metadata": {},
   "source": [
    "Imprime Fecha de cumpleaños es más el día y el mes."
   ]
  },
  {
   "cell_type": "code",
   "execution_count": null,
   "id": "edb81e9a",
   "metadata": {},
   "outputs": [],
   "source": [
    "print (fecha_cumple)"
   ]
  },
  {
   "cell_type": "markdown",
   "id": "36797558",
   "metadata": {},
   "source": [
    "Imprime la variable perros en todas mayúsculas."
   ]
  },
  {
   "cell_type": "code",
   "execution_count": 47,
   "id": "b46d45c5",
   "metadata": {},
   "outputs": [
    {
     "name": "stdout",
     "output_type": "stream",
     "text": [
      "CUATRO\n"
     ]
    }
   ],
   "source": [
    "print (perros.upper())"
   ]
  },
  {
   "cell_type": "markdown",
   "id": "8a0187ac",
   "metadata": {},
   "source": []
  }
 ],
 "metadata": {
  "kernelspec": {
   "display_name": "base",
   "language": "python",
   "name": "python3"
  },
  "language_info": {
   "codemirror_mode": {
    "name": "ipython",
    "version": 3
   },
   "file_extension": ".py",
   "mimetype": "text/x-python",
   "name": "python",
   "nbconvert_exporter": "python",
   "pygments_lexer": "ipython3",
   "version": "3.12.7"
  }
 },
 "nbformat": 4,
 "nbformat_minor": 5
}
