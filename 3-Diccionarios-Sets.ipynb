{
 "cells": [
  {
   "cell_type": "markdown",
   "id": "87ad7918",
   "metadata": {},
   "source": [
    "# Diccionarios"
   ]
  },
  {
   "cell_type": "markdown",
   "id": "dec63e2a",
   "metadata": {},
   "source": [
    "## Definir diccionarios"
   ]
  },
  {
   "cell_type": "markdown",
   "id": "07fae083",
   "metadata": {},
   "source": [
    "1- Crea el diccionario festivos con las fechas como claves y los nombres como valores: 01/01: Año Nuevo, 06/01: Epifanía del Señor, 15/04: Viernes Santo, 15/08: Asunción de la Virgen, 12/10: Fiesta Nacional de España, 01/11: Todos los Santos, 06/12: Día de la Constitución Española, y 08/12: Inmaculada Concepción."
   ]
  },
  {
   "cell_type": "code",
   "execution_count": 28,
   "id": "c522a285",
   "metadata": {},
   "outputs": [],
   "source": [
    "festivos = {\n",
    "    \"01/01\": \"Año nuevo\",\n",
    "    \"06/01\": \"Epifanía del Señor\",\n",
    "    \"15/04\": \"Viernes santo\",\n",
    "    \"15/08\": \"Asunción de la Virgen\",\n",
    "    \"12/10\": \"Fiesta Nacional de España\",\n",
    "    \"01/11\": \"Todos los Santos\",\n",
    "    \"06/12\": \"Dia de la Constitución Española\",\n",
    "    \"08/12\": \"Inmaculada Concepción\"\n",
    "}"
   ]
  },
  {
   "cell_type": "markdown",
   "id": "31f03571",
   "metadata": {},
   "source": [
    "2- Crea el diccionario monarcas con los países como claves y los nombres como valores: Bélgica: Philippe, Dinamarca: Margrethe II, Holanda: Beatrix, Noruega: Harald V, España: Felipe VI, Reino Unido: Carlos III."
   ]
  },
  {
   "cell_type": "code",
   "execution_count": 29,
   "id": "fa88ca1c",
   "metadata": {},
   "outputs": [],
   "source": [
    "monarcas = {\n",
    "    \"Bélgica\": \"Philippe\",\n",
    "    \"Dinamarca\": \"Margrethe II\",\n",
    "    \"Holanda\": \"Beatrix\",\n",
    "    \"Noruega\": \"Harald V\",\n",
    "    \"España\": \"Felipe VI\",\n",
    "    \"Reino Unido\": \"Carlos III\"\n",
    "}"
   ]
  },
  {
   "cell_type": "markdown",
   "id": "d25e629c",
   "metadata": {},
   "source": [
    "## Leer, añadir, y cambiar elementos"
   ]
  },
  {
   "cell_type": "markdown",
   "id": "e8bc4d51",
   "metadata": {},
   "source": [
    "3- ¿Qué festivo hay el 15/04?"
   ]
  },
  {
   "cell_type": "code",
   "execution_count": 30,
   "id": "d944fa9f",
   "metadata": {},
   "outputs": [
    {
     "name": "stdout",
     "output_type": "stream",
     "text": [
      "Viernes santo\n",
      "Viernes santo\n"
     ]
    }
   ],
   "source": [
    "print(festivos.get(\"15/04\"))\n",
    "print(festivos[\"15/04\"])"
   ]
  },
  {
   "cell_type": "markdown",
   "id": "27b07690",
   "metadata": {},
   "source": [
    "4- La reina 'Beatrix' abdicó, ahora es el rey 'Willem-Alexander'. Actualiza el dict."
   ]
  },
  {
   "cell_type": "code",
   "execution_count": 31,
   "id": "328754e8",
   "metadata": {},
   "outputs": [
    {
     "data": {
      "text/plain": [
       "{'Bélgica': 'Philippe',\n",
       " 'Dinamarca': 'Margrethe II',\n",
       " 'Holanda': 'Willem-Alexander',\n",
       " 'Noruega': 'Harald V',\n",
       " 'España': 'Felipe VI',\n",
       " 'Reino Unido': 'Carlos III'}"
      ]
     },
     "execution_count": 31,
     "metadata": {},
     "output_type": "execute_result"
    }
   ],
   "source": [
    "monarcas.update({\"Holanda\":\"Willem-Alexander\"})\n",
    "monarcas"
   ]
  },
  {
   "cell_type": "markdown",
   "id": "bd09fba3",
   "metadata": {},
   "source": [
    "5- El rey de Luxemburgo se llama Henri. Añadelo al dict usando .update()."
   ]
  },
  {
   "cell_type": "code",
   "execution_count": 32,
   "id": "d3af408a",
   "metadata": {},
   "outputs": [],
   "source": [
    "monarcas.update({\"Luxemburgo\":\"Henri\"})\n",
    "monarcas\n",
    "\n",
    "nuevo_monarca = {\"Luxemburgo\":\"Henri\"}\n",
    "monarcas.update(nuevo_monarca)"
   ]
  },
  {
   "cell_type": "markdown",
   "id": "f8e9aadb",
   "metadata": {},
   "source": [
    "## Comprobar contenidos"
   ]
  },
  {
   "cell_type": "markdown",
   "id": "f6503ed2",
   "metadata": {},
   "source": [
    "6- ¿Cuántos países están definidos en monarcas?"
   ]
  },
  {
   "cell_type": "code",
   "execution_count": 33,
   "id": "43e2f78d",
   "metadata": {},
   "outputs": [
    {
     "data": {
      "text/plain": [
       "7"
      ]
     },
     "execution_count": 33,
     "metadata": {},
     "output_type": "execute_result"
    }
   ],
   "source": [
    "len(monarcas)"
   ]
  },
  {
   "cell_type": "markdown",
   "id": "fc6baadf",
   "metadata": {},
   "source": [
    "7- ¿Es 'Monaco' uno de ellos?"
   ]
  },
  {
   "cell_type": "code",
   "execution_count": 34,
   "id": "a95450b3",
   "metadata": {},
   "outputs": [
    {
     "data": {
      "text/plain": [
       "False"
      ]
     },
     "execution_count": 34,
     "metadata": {},
     "output_type": "execute_result"
    }
   ],
   "source": [
    "\"Mónaco\" in monarcas"
   ]
  },
  {
   "cell_type": "markdown",
   "id": "3a4d3110",
   "metadata": {},
   "source": [
    "8- ¿Es verdad que nos olvidamos de poner 'Suecia'? Compruébalo de una manera en que obtengas un True o False."
   ]
  },
  {
   "cell_type": "code",
   "execution_count": 35,
   "id": "cec47665",
   "metadata": {},
   "outputs": [
    {
     "data": {
      "text/plain": [
       "True"
      ]
     },
     "execution_count": 35,
     "metadata": {},
     "output_type": "execute_result"
    }
   ],
   "source": [
    "\"Suecia\" not in monarcas"
   ]
  },
  {
   "cell_type": "markdown",
   "id": "703dc62f",
   "metadata": {},
   "source": [
    "## Listar los contenidos"
   ]
  },
  {
   "cell_type": "markdown",
   "id": "2fc6b7e7",
   "metadata": {},
   "source": [
    "9- Saca una lista de todos los países en el dict monarcas."
   ]
  },
  {
   "cell_type": "code",
   "execution_count": 36,
   "id": "53c9e66f",
   "metadata": {},
   "outputs": [
    {
     "data": {
      "text/plain": [
       "dict_keys(['Bélgica', 'Dinamarca', 'Holanda', 'Noruega', 'España', 'Reino Unido', 'Luxemburgo'])"
      ]
     },
     "execution_count": 36,
     "metadata": {},
     "output_type": "execute_result"
    }
   ],
   "source": [
    "monarcas.keys()"
   ]
  },
  {
   "cell_type": "markdown",
   "id": "09df69cd",
   "metadata": {},
   "source": [
    "10- Saca una lista de los nombres de los festivos."
   ]
  },
  {
   "cell_type": "code",
   "execution_count": 37,
   "id": "c59f6869",
   "metadata": {},
   "outputs": [
    {
     "data": {
      "text/plain": [
       "dict_values(['Año nuevo', 'Epifanía del Señor', 'Viernes santo', 'Asunción de la Virgen', 'Fiesta Nacional de España', 'Todos los Santos', 'Dia de la Constitución Española', 'Inmaculada Concepción'])"
      ]
     },
     "execution_count": 37,
     "metadata": {},
     "output_type": "execute_result"
    }
   ],
   "source": [
    "festivos.values()"
   ]
  },
  {
   "cell_type": "markdown",
   "id": "22aa244a",
   "metadata": {},
   "source": [
    "11- Imprime el diccionario de festivos."
   ]
  },
  {
   "cell_type": "code",
   "execution_count": 38,
   "id": "d026cee9",
   "metadata": {},
   "outputs": [
    {
     "name": "stdout",
     "output_type": "stream",
     "text": [
      "{'01/01': 'Año nuevo', '06/01': 'Epifanía del Señor', '15/04': 'Viernes santo', '15/08': 'Asunción de la Virgen', '12/10': 'Fiesta Nacional de España', '01/11': 'Todos los Santos', '06/12': 'Dia de la Constitución Española', '08/12': 'Inmaculada Concepción'}\n"
     ]
    }
   ],
   "source": [
    "print(festivos)"
   ]
  },
  {
   "cell_type": "markdown",
   "id": "26b1329c",
   "metadata": {},
   "source": [
    "12- Imprime una lista de tuplas de todos los elementos que hay en festivos."
   ]
  },
  {
   "cell_type": "code",
   "execution_count": 39,
   "id": "f05d2abb",
   "metadata": {},
   "outputs": [
    {
     "data": {
      "text/plain": [
       "dict_items([('01/01', 'Año nuevo'), ('06/01', 'Epifanía del Señor'), ('15/04', 'Viernes santo'), ('15/08', 'Asunción de la Virgen'), ('12/10', 'Fiesta Nacional de España'), ('01/11', 'Todos los Santos'), ('06/12', 'Dia de la Constitución Española'), ('08/12', 'Inmaculada Concepción')])"
      ]
     },
     "execution_count": 39,
     "metadata": {},
     "output_type": "execute_result"
    }
   ],
   "source": [
    "festivos.items()"
   ]
  },
  {
   "cell_type": "markdown",
   "id": "83a529bd",
   "metadata": {},
   "source": [
    "## Copiar dicts, y borrar elementos"
   ]
  },
  {
   "cell_type": "markdown",
   "id": "1902236d",
   "metadata": {},
   "source": [
    "13- Copia monarcas a monarcas2010."
   ]
  },
  {
   "cell_type": "code",
   "execution_count": 40,
   "id": "b91718e5",
   "metadata": {},
   "outputs": [],
   "source": [
    "monarcas2010= monarcas.copy()"
   ]
  },
  {
   "cell_type": "markdown",
   "id": "5364d2d8",
   "metadata": {},
   "source": [
    "14- Quita España de monarcas2010."
   ]
  },
  {
   "cell_type": "code",
   "execution_count": 41,
   "id": "6d364fcc",
   "metadata": {},
   "outputs": [
    {
     "data": {
      "text/plain": [
       "'Felipe VI'"
      ]
     },
     "execution_count": 41,
     "metadata": {},
     "output_type": "execute_result"
    }
   ],
   "source": [
    "monarcas2010.pop(\"España\")"
   ]
  },
  {
   "cell_type": "markdown",
   "id": "e43fe96f",
   "metadata": {},
   "source": [
    "15- Quita el último elemento de monarcas2010."
   ]
  },
  {
   "cell_type": "code",
   "execution_count": 42,
   "id": "c4a31f9e",
   "metadata": {},
   "outputs": [
    {
     "data": {
      "text/plain": [
       "('Luxemburgo', 'Henri')"
      ]
     },
     "execution_count": 42,
     "metadata": {},
     "output_type": "execute_result"
    }
   ],
   "source": [
    "monarcas2010.popitem()"
   ]
  },
  {
   "cell_type": "code",
   "execution_count": 43,
   "id": "db022735",
   "metadata": {},
   "outputs": [
    {
     "data": {
      "text/plain": [
       "{'Bélgica': 'Philippe',\n",
       " 'Dinamarca': 'Margrethe II',\n",
       " 'Holanda': 'Willem-Alexander',\n",
       " 'Noruega': 'Harald V',\n",
       " 'Reino Unido': 'Carlos III'}"
      ]
     },
     "execution_count": 43,
     "metadata": {},
     "output_type": "execute_result"
    }
   ],
   "source": [
    "monarcas2010"
   ]
  },
  {
   "cell_type": "markdown",
   "id": "58c51484",
   "metadata": {},
   "source": [
    "## Vaciar y borrar dicts"
   ]
  },
  {
   "cell_type": "markdown",
   "id": "aff380bf",
   "metadata": {},
   "source": [
    "16- Vacia el dict monarcas2010."
   ]
  },
  {
   "cell_type": "code",
   "execution_count": 44,
   "id": "58440bb7",
   "metadata": {},
   "outputs": [],
   "source": [
    "monarcas2010.clear()"
   ]
  },
  {
   "cell_type": "code",
   "execution_count": 45,
   "id": "3b5fc286",
   "metadata": {},
   "outputs": [
    {
     "name": "stdout",
     "output_type": "stream",
     "text": [
      "{}\n"
     ]
    }
   ],
   "source": [
    "print(monarcas2010)"
   ]
  },
  {
   "cell_type": "markdown",
   "id": "a19000b8",
   "metadata": {},
   "source": [
    "## Obtener valores"
   ]
  },
  {
   "cell_type": "markdown",
   "id": "be1a60df",
   "metadata": {},
   "source": [
    "17- ¿Qué festivo hay el 06/01?"
   ]
  },
  {
   "cell_type": "markdown",
   "id": "895e8a90",
   "metadata": {},
   "source": [
    "18- Obten el festivo que haya el 08/03, y en su defecto devuélve 'Día Internacional de la Mujer'."
   ]
  },
  {
   "cell_type": "markdown",
   "id": "a80eca4e",
   "metadata": {},
   "source": [
    "19- Obten el festivo que haya el 31/11, y si no existe crea un par de clave-valor nuevo con el valor de 'Todos los Santos'."
   ]
  },
  {
   "cell_type": "markdown",
   "id": "c66b9907",
   "metadata": {},
   "source": []
  },
  {
   "cell_type": "markdown",
   "id": "f1dfe7b2",
   "metadata": {},
   "source": [
    "# Sets"
   ]
  },
  {
   "cell_type": "markdown",
   "id": "1ed89323",
   "metadata": {},
   "source": [
    "## Definir sets"
   ]
  },
  {
   "cell_type": "markdown",
   "id": "0d277258",
   "metadata": {},
   "source": [
    "1- Define la lista\n",
    "temperaturas_diciembre = [10, 10, 13, 14, 12, 15, \n",
    "                          12, 11, 13, 17, 18, 15, \n",
    "                          15, 17, 17, 13, 13, 11,\n",
    "                          12, 10, 12, 14, 12, 12,\n",
    "                          11, 12, 16, 16, 14, 17, 18]"
   ]
  },
  {
   "cell_type": "markdown",
   "id": "0d614c0c",
   "metadata": {},
   "source": [
    "2- Conviértala en un set llamado diciembre."
   ]
  },
  {
   "cell_type": "markdown",
   "id": "2f535b87",
   "metadata": {},
   "source": [
    "3- Piensa en 6 colores y almacenalos en un set llamado colores."
   ]
  },
  {
   "cell_type": "markdown",
   "id": "90a05c45",
   "metadata": {},
   "source": [
    "# Ampliar sets"
   ]
  },
  {
   "cell_type": "markdown",
   "id": "6616dadc",
   "metadata": {},
   "source": [
    "4- Añade 'lila' a colores."
   ]
  },
  {
   "cell_type": "markdown",
   "id": "8f332889",
   "metadata": {},
   "source": [
    "5- Añade 'azul', 'rojo', y 'granate' a colores usando .update()."
   ]
  },
  {
   "cell_type": "markdown",
   "id": "29aef55f",
   "metadata": {},
   "source": [
    "# in, not in"
   ]
  },
  {
   "cell_type": "markdown",
   "id": "4ff167a3",
   "metadata": {},
   "source": [
    "6- Tu set de colores, ¿tiene 'verde'?"
   ]
  },
  {
   "cell_type": "markdown",
   "id": "6713df52",
   "metadata": {},
   "source": [
    "7- ¿Y tiene 'ROJO'?"
   ]
  },
  {
   "cell_type": "markdown",
   "id": "e804afe4",
   "metadata": {},
   "source": [
    "# Copiar, borrar elementos"
   ]
  },
  {
   "cell_type": "markdown",
   "id": "43f34481",
   "metadata": {},
   "source": [
    "8- Define el set enero para que sea igual a diciembre."
   ]
  },
  {
   "cell_type": "markdown",
   "id": "2c7d5f1a",
   "metadata": {},
   "source": [
    "9- Quita las temperaturas 17, y 18 de enero."
   ]
  },
  {
   "cell_type": "markdown",
   "id": "eb4c63cc",
   "metadata": {},
   "source": [
    "# Tamaño de un set"
   ]
  },
  {
   "cell_type": "markdown",
   "id": "3b5a49bd",
   "metadata": {},
   "source": [
    "10- ¿Cuántas temperaturas distintas había en diciembre?"
   ]
  },
  {
   "cell_type": "markdown",
   "id": "f3c70445",
   "metadata": {},
   "source": [
    "11- ¿Y cuántas en enero?"
   ]
  },
  {
   "cell_type": "markdown",
   "id": "278744e6",
   "metadata": {},
   "source": [
    "# Conjuntos con sets"
   ]
  },
  {
   "cell_type": "markdown",
   "id": "e4cd109b",
   "metadata": {},
   "source": [
    "12- Identifica los elementos que hay en diciembre que no están en enero."
   ]
  },
  {
   "cell_type": "markdown",
   "id": "ad0a606e",
   "metadata": {},
   "source": [
    "13- Identifica los elementos que hay en enero que no están en diciembre."
   ]
  },
  {
   "cell_type": "markdown",
   "id": "74649c68",
   "metadata": {},
   "source": [
    "14- Identifica los elementos que tienen en común diciembre y enero."
   ]
  },
  {
   "cell_type": "markdown",
   "id": "552b389b",
   "metadata": {},
   "source": [
    "15- Identifica la diferencia simétrica de colores y {'marrón','amarillo','cyan'}. ¿Qué significa este resultado?"
   ]
  },
  {
   "cell_type": "markdown",
   "id": "a804d134",
   "metadata": {},
   "source": [
    "# Comparar sets"
   ]
  },
  {
   "cell_type": "markdown",
   "id": "06e16a21",
   "metadata": {},
   "source": [
    "16- ¿Son disjoint diciembre y enero? ¿Por qué (no)?"
   ]
  },
  {
   "cell_type": "markdown",
   "id": "3c4a860a",
   "metadata": {},
   "source": [
    "17- ¿Es {'rojo','azul'} un superset de colores?"
   ]
  },
  {
   "cell_type": "markdown",
   "id": "ac7dbb08",
   "metadata": {},
   "source": [
    "18- ¿Y un subset?"
   ]
  },
  {
   "cell_type": "markdown",
   "id": "9a5bee60",
   "metadata": {},
   "source": []
  }
 ],
 "metadata": {
  "kernelspec": {
   "display_name": "base",
   "language": "python",
   "name": "python3"
  },
  "language_info": {
   "codemirror_mode": {
    "name": "ipython",
    "version": 3
   },
   "file_extension": ".py",
   "mimetype": "text/x-python",
   "name": "python",
   "nbconvert_exporter": "python",
   "pygments_lexer": "ipython3",
   "version": "3.12.7"
  }
 },
 "nbformat": 4,
 "nbformat_minor": 5
}
